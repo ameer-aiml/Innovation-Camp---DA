{
 "cells": [
  {
   "cell_type": "markdown",
   "metadata": {
    "id": "XCgh-4MAzHS2"
   },
   "source": [
    "# **1. Load the dataset and display top 2 values**"
   ]
  },
  {
   "cell_type": "code",
   "execution_count": 54,
   "metadata": {
    "colab": {
     "base_uri": "https://localhost:8080/",
     "height": 140
    },
    "id": "33YD05MEDh-R",
    "outputId": "fd799525-9e97-4b22-9da5-ae9b1b418390"
   },
   "outputs": [
    {
     "data": {
      "text/html": [
       "<div>\n",
       "<style scoped>\n",
       "    .dataframe tbody tr th:only-of-type {\n",
       "        vertical-align: middle;\n",
       "    }\n",
       "\n",
       "    .dataframe tbody tr th {\n",
       "        vertical-align: top;\n",
       "    }\n",
       "\n",
       "    .dataframe thead th {\n",
       "        text-align: right;\n",
       "    }\n",
       "</style>\n",
       "<table border=\"1\" class=\"dataframe\">\n",
       "  <thead>\n",
       "    <tr style=\"text-align: right;\">\n",
       "      <th></th>\n",
       "      <th>Company \\n(Maker-if known)</th>\n",
       "      <th>Specific Bean Origin\\nor Bar Name</th>\n",
       "      <th>REF</th>\n",
       "      <th>Review\\nDate</th>\n",
       "      <th>Cocoa\\nPercent</th>\n",
       "      <th>Company\\nLocation</th>\n",
       "      <th>Rating</th>\n",
       "      <th>Bean\\nType</th>\n",
       "      <th>Broad Bean\\nOrigin</th>\n",
       "    </tr>\n",
       "  </thead>\n",
       "  <tbody>\n",
       "    <tr>\n",
       "      <th>0</th>\n",
       "      <td>A. Morin</td>\n",
       "      <td>Agua Grande</td>\n",
       "      <td>1876</td>\n",
       "      <td>2016</td>\n",
       "      <td>63%</td>\n",
       "      <td>France</td>\n",
       "      <td>3.75</td>\n",
       "      <td></td>\n",
       "      <td>Sao Tome</td>\n",
       "    </tr>\n",
       "    <tr>\n",
       "      <th>1</th>\n",
       "      <td>A. Morin</td>\n",
       "      <td>Kpime</td>\n",
       "      <td>1676</td>\n",
       "      <td>2015</td>\n",
       "      <td>70%</td>\n",
       "      <td>France</td>\n",
       "      <td>2.75</td>\n",
       "      <td></td>\n",
       "      <td>Togo</td>\n",
       "    </tr>\n",
       "  </tbody>\n",
       "</table>\n",
       "</div>"
      ],
      "text/plain": [
       "  Company \\n(Maker-if known) Specific Bean Origin\\nor Bar Name   REF  \\\n",
       "0                   A. Morin                       Agua Grande  1876   \n",
       "1                   A. Morin                             Kpime  1676   \n",
       "\n",
       "   Review\\nDate Cocoa\\nPercent Company\\nLocation  Rating Bean\\nType  \\\n",
       "0          2016            63%            France    3.75              \n",
       "1          2015            70%            France    2.75              \n",
       "\n",
       "  Broad Bean\\nOrigin  \n",
       "0           Sao Tome  \n",
       "1               Togo  "
      ]
     },
     "execution_count": 54,
     "metadata": {},
     "output_type": "execute_result"
    }
   ],
   "source": [
    "import pandas as pd\n",
    "df = pd.read_csv('flavors.csv')\n",
    "df.head(2)\n",
    "\n",
    "# csv - comma separated values"
   ]
  },
  {
   "cell_type": "markdown",
   "metadata": {
    "id": "QwTLxx7Vzb84"
   },
   "source": [
    "# **2. Check the type of variable and also its dimensions**\n"
   ]
  },
  {
   "cell_type": "code",
   "execution_count": 9,
   "metadata": {
    "colab": {
     "base_uri": "https://localhost:8080/"
    },
    "id": "LUt9FKngdZPw",
    "outputId": "91068b53-b2ed-494e-f338-6488423d9878"
   },
   "outputs": [
    {
     "name": "stdout",
     "output_type": "stream",
     "text": [
      "<class 'pandas.core.frame.DataFrame'>\n",
      "2\n"
     ]
    }
   ],
   "source": [
    "print(type(df))\n",
    "print(df.ndim)"
   ]
  },
  {
   "cell_type": "code",
   "execution_count": null,
   "metadata": {},
   "outputs": [],
   "source": [
    "# Library will have 2 imp components\n",
    "# 1. Method - Function()\n",
    "# 2. Attribute - Variable "
   ]
  },
  {
   "cell_type": "markdown",
   "metadata": {
    "id": "iVyAs9bDzyv6"
   },
   "source": [
    "# **3. How many rows and columns are available in the dataframe?**"
   ]
  },
  {
   "cell_type": "code",
   "execution_count": 10,
   "metadata": {
    "colab": {
     "base_uri": "https://localhost:8080/"
    },
    "id": "X6DfTPbkCozE",
    "outputId": "f782be45-b89a-49b9-8c8d-da09ab273d74"
   },
   "outputs": [
    {
     "data": {
      "text/plain": [
       "(1795, 9)"
      ]
     },
     "execution_count": 10,
     "metadata": {},
     "output_type": "execute_result"
    }
   ],
   "source": [
    "df.shape  # Attribute"
   ]
  },
  {
   "cell_type": "markdown",
   "metadata": {
    "id": "C53z710302cg"
   },
   "source": [
    "# **4. Describe Statistics for all columns**\n"
   ]
  },
  {
   "cell_type": "code",
   "execution_count": 11,
   "metadata": {
    "colab": {
     "base_uri": "https://localhost:8080/",
     "height": 174
    },
    "id": "ZQFBdtGDC9NU",
    "outputId": "459dbd39-d8cc-417a-cb55-7f95cb6f01fe"
   },
   "outputs": [
    {
     "data": {
      "text/html": [
       "<div>\n",
       "<style scoped>\n",
       "    .dataframe tbody tr th:only-of-type {\n",
       "        vertical-align: middle;\n",
       "    }\n",
       "\n",
       "    .dataframe tbody tr th {\n",
       "        vertical-align: top;\n",
       "    }\n",
       "\n",
       "    .dataframe thead th {\n",
       "        text-align: right;\n",
       "    }\n",
       "</style>\n",
       "<table border=\"1\" class=\"dataframe\">\n",
       "  <thead>\n",
       "    <tr style=\"text-align: right;\">\n",
       "      <th></th>\n",
       "      <th>REF</th>\n",
       "      <th>Review\\nDate</th>\n",
       "      <th>Rating</th>\n",
       "    </tr>\n",
       "  </thead>\n",
       "  <tbody>\n",
       "    <tr>\n",
       "      <th>count</th>\n",
       "      <td>1795.000000</td>\n",
       "      <td>1795.000000</td>\n",
       "      <td>1795.000000</td>\n",
       "    </tr>\n",
       "    <tr>\n",
       "      <th>mean</th>\n",
       "      <td>1035.904735</td>\n",
       "      <td>2012.325348</td>\n",
       "      <td>3.185933</td>\n",
       "    </tr>\n",
       "    <tr>\n",
       "      <th>std</th>\n",
       "      <td>552.886365</td>\n",
       "      <td>2.927210</td>\n",
       "      <td>0.478062</td>\n",
       "    </tr>\n",
       "    <tr>\n",
       "      <th>min</th>\n",
       "      <td>5.000000</td>\n",
       "      <td>2006.000000</td>\n",
       "      <td>1.000000</td>\n",
       "    </tr>\n",
       "    <tr>\n",
       "      <th>25%</th>\n",
       "      <td>576.000000</td>\n",
       "      <td>2010.000000</td>\n",
       "      <td>2.875000</td>\n",
       "    </tr>\n",
       "    <tr>\n",
       "      <th>50%</th>\n",
       "      <td>1069.000000</td>\n",
       "      <td>2013.000000</td>\n",
       "      <td>3.250000</td>\n",
       "    </tr>\n",
       "    <tr>\n",
       "      <th>75%</th>\n",
       "      <td>1502.000000</td>\n",
       "      <td>2015.000000</td>\n",
       "      <td>3.500000</td>\n",
       "    </tr>\n",
       "    <tr>\n",
       "      <th>max</th>\n",
       "      <td>1952.000000</td>\n",
       "      <td>2017.000000</td>\n",
       "      <td>5.000000</td>\n",
       "    </tr>\n",
       "  </tbody>\n",
       "</table>\n",
       "</div>"
      ],
      "text/plain": [
       "               REF  Review\\nDate       Rating\n",
       "count  1795.000000   1795.000000  1795.000000\n",
       "mean   1035.904735   2012.325348     3.185933\n",
       "std     552.886365      2.927210     0.478062\n",
       "min       5.000000   2006.000000     1.000000\n",
       "25%     576.000000   2010.000000     2.875000\n",
       "50%    1069.000000   2013.000000     3.250000\n",
       "75%    1502.000000   2015.000000     3.500000\n",
       "max    1952.000000   2017.000000     5.000000"
      ]
     },
     "execution_count": 11,
     "metadata": {},
     "output_type": "execute_result"
    }
   ],
   "source": [
    "df.describe()"
   ]
  },
  {
   "cell_type": "code",
   "execution_count": 12,
   "metadata": {
    "scrolled": true
   },
   "outputs": [
    {
     "data": {
      "text/html": [
       "<div>\n",
       "<style scoped>\n",
       "    .dataframe tbody tr th:only-of-type {\n",
       "        vertical-align: middle;\n",
       "    }\n",
       "\n",
       "    .dataframe tbody tr th {\n",
       "        vertical-align: top;\n",
       "    }\n",
       "\n",
       "    .dataframe thead th {\n",
       "        text-align: right;\n",
       "    }\n",
       "</style>\n",
       "<table border=\"1\" class=\"dataframe\">\n",
       "  <thead>\n",
       "    <tr style=\"text-align: right;\">\n",
       "      <th></th>\n",
       "      <th>Company \\n(Maker-if known)</th>\n",
       "      <th>Specific Bean Origin\\nor Bar Name</th>\n",
       "      <th>REF</th>\n",
       "      <th>Review\\nDate</th>\n",
       "      <th>Cocoa\\nPercent</th>\n",
       "      <th>Company\\nLocation</th>\n",
       "      <th>Rating</th>\n",
       "      <th>Bean\\nType</th>\n",
       "      <th>Broad Bean\\nOrigin</th>\n",
       "    </tr>\n",
       "  </thead>\n",
       "  <tbody>\n",
       "    <tr>\n",
       "      <th>count</th>\n",
       "      <td>1795</td>\n",
       "      <td>1795</td>\n",
       "      <td>1795.000000</td>\n",
       "      <td>1795.000000</td>\n",
       "      <td>1795</td>\n",
       "      <td>1795</td>\n",
       "      <td>1795.000000</td>\n",
       "      <td>1794</td>\n",
       "      <td>1794</td>\n",
       "    </tr>\n",
       "    <tr>\n",
       "      <th>unique</th>\n",
       "      <td>416</td>\n",
       "      <td>1039</td>\n",
       "      <td>NaN</td>\n",
       "      <td>NaN</td>\n",
       "      <td>45</td>\n",
       "      <td>60</td>\n",
       "      <td>NaN</td>\n",
       "      <td>41</td>\n",
       "      <td>100</td>\n",
       "    </tr>\n",
       "    <tr>\n",
       "      <th>top</th>\n",
       "      <td>Soma</td>\n",
       "      <td>Madagascar</td>\n",
       "      <td>NaN</td>\n",
       "      <td>NaN</td>\n",
       "      <td>70%</td>\n",
       "      <td>U.S.A.</td>\n",
       "      <td>NaN</td>\n",
       "      <td></td>\n",
       "      <td>Venezuela</td>\n",
       "    </tr>\n",
       "    <tr>\n",
       "      <th>freq</th>\n",
       "      <td>47</td>\n",
       "      <td>57</td>\n",
       "      <td>NaN</td>\n",
       "      <td>NaN</td>\n",
       "      <td>672</td>\n",
       "      <td>764</td>\n",
       "      <td>NaN</td>\n",
       "      <td>887</td>\n",
       "      <td>214</td>\n",
       "    </tr>\n",
       "    <tr>\n",
       "      <th>mean</th>\n",
       "      <td>NaN</td>\n",
       "      <td>NaN</td>\n",
       "      <td>1035.904735</td>\n",
       "      <td>2012.325348</td>\n",
       "      <td>NaN</td>\n",
       "      <td>NaN</td>\n",
       "      <td>3.185933</td>\n",
       "      <td>NaN</td>\n",
       "      <td>NaN</td>\n",
       "    </tr>\n",
       "    <tr>\n",
       "      <th>std</th>\n",
       "      <td>NaN</td>\n",
       "      <td>NaN</td>\n",
       "      <td>552.886365</td>\n",
       "      <td>2.927210</td>\n",
       "      <td>NaN</td>\n",
       "      <td>NaN</td>\n",
       "      <td>0.478062</td>\n",
       "      <td>NaN</td>\n",
       "      <td>NaN</td>\n",
       "    </tr>\n",
       "    <tr>\n",
       "      <th>min</th>\n",
       "      <td>NaN</td>\n",
       "      <td>NaN</td>\n",
       "      <td>5.000000</td>\n",
       "      <td>2006.000000</td>\n",
       "      <td>NaN</td>\n",
       "      <td>NaN</td>\n",
       "      <td>1.000000</td>\n",
       "      <td>NaN</td>\n",
       "      <td>NaN</td>\n",
       "    </tr>\n",
       "    <tr>\n",
       "      <th>25%</th>\n",
       "      <td>NaN</td>\n",
       "      <td>NaN</td>\n",
       "      <td>576.000000</td>\n",
       "      <td>2010.000000</td>\n",
       "      <td>NaN</td>\n",
       "      <td>NaN</td>\n",
       "      <td>2.875000</td>\n",
       "      <td>NaN</td>\n",
       "      <td>NaN</td>\n",
       "    </tr>\n",
       "    <tr>\n",
       "      <th>50%</th>\n",
       "      <td>NaN</td>\n",
       "      <td>NaN</td>\n",
       "      <td>1069.000000</td>\n",
       "      <td>2013.000000</td>\n",
       "      <td>NaN</td>\n",
       "      <td>NaN</td>\n",
       "      <td>3.250000</td>\n",
       "      <td>NaN</td>\n",
       "      <td>NaN</td>\n",
       "    </tr>\n",
       "    <tr>\n",
       "      <th>75%</th>\n",
       "      <td>NaN</td>\n",
       "      <td>NaN</td>\n",
       "      <td>1502.000000</td>\n",
       "      <td>2015.000000</td>\n",
       "      <td>NaN</td>\n",
       "      <td>NaN</td>\n",
       "      <td>3.500000</td>\n",
       "      <td>NaN</td>\n",
       "      <td>NaN</td>\n",
       "    </tr>\n",
       "    <tr>\n",
       "      <th>max</th>\n",
       "      <td>NaN</td>\n",
       "      <td>NaN</td>\n",
       "      <td>1952.000000</td>\n",
       "      <td>2017.000000</td>\n",
       "      <td>NaN</td>\n",
       "      <td>NaN</td>\n",
       "      <td>5.000000</td>\n",
       "      <td>NaN</td>\n",
       "      <td>NaN</td>\n",
       "    </tr>\n",
       "  </tbody>\n",
       "</table>\n",
       "</div>"
      ],
      "text/plain": [
       "       Company \\n(Maker-if known) Specific Bean Origin\\nor Bar Name  \\\n",
       "count                        1795                              1795   \n",
       "unique                        416                              1039   \n",
       "top                          Soma                        Madagascar   \n",
       "freq                           47                                57   \n",
       "mean                          NaN                               NaN   \n",
       "std                           NaN                               NaN   \n",
       "min                           NaN                               NaN   \n",
       "25%                           NaN                               NaN   \n",
       "50%                           NaN                               NaN   \n",
       "75%                           NaN                               NaN   \n",
       "max                           NaN                               NaN   \n",
       "\n",
       "                REF  Review\\nDate Cocoa\\nPercent Company\\nLocation  \\\n",
       "count   1795.000000   1795.000000           1795              1795   \n",
       "unique          NaN           NaN             45                60   \n",
       "top             NaN           NaN            70%            U.S.A.   \n",
       "freq            NaN           NaN            672               764   \n",
       "mean    1035.904735   2012.325348            NaN               NaN   \n",
       "std      552.886365      2.927210            NaN               NaN   \n",
       "min        5.000000   2006.000000            NaN               NaN   \n",
       "25%      576.000000   2010.000000            NaN               NaN   \n",
       "50%     1069.000000   2013.000000            NaN               NaN   \n",
       "75%     1502.000000   2015.000000            NaN               NaN   \n",
       "max     1952.000000   2017.000000            NaN               NaN   \n",
       "\n",
       "             Rating Bean\\nType Broad Bean\\nOrigin  \n",
       "count   1795.000000       1794               1794  \n",
       "unique          NaN         41                100  \n",
       "top             NaN                     Venezuela  \n",
       "freq            NaN        887                214  \n",
       "mean       3.185933        NaN                NaN  \n",
       "std        0.478062        NaN                NaN  \n",
       "min        1.000000        NaN                NaN  \n",
       "25%        2.875000        NaN                NaN  \n",
       "50%        3.250000        NaN                NaN  \n",
       "75%        3.500000        NaN                NaN  \n",
       "max        5.000000        NaN                NaN  "
      ]
     },
     "execution_count": 12,
     "metadata": {},
     "output_type": "execute_result"
    }
   ],
   "source": [
    "df.describe(include='all')"
   ]
  },
  {
   "cell_type": "markdown",
   "metadata": {
    "id": "DutvrETF1RU7"
   },
   "source": [
    "# **5. Display all column names**"
   ]
  },
  {
   "cell_type": "code",
   "execution_count": 13,
   "metadata": {
    "colab": {
     "base_uri": "https://localhost:8080/"
    },
    "id": "hQdY9oOnC988",
    "outputId": "979b14e7-fcbc-4e52-aa4d-e50e7e58d160"
   },
   "outputs": [
    {
     "data": {
      "text/plain": [
       "Index(['Company \\n(Maker-if known)', 'Specific Bean Origin\\nor Bar Name',\n",
       "       'REF', 'Review\\nDate', 'Cocoa\\nPercent', 'Company\\nLocation', 'Rating',\n",
       "       'Bean\\nType', 'Broad Bean\\nOrigin'],\n",
       "      dtype='object')"
      ]
     },
     "execution_count": 13,
     "metadata": {},
     "output_type": "execute_result"
    }
   ],
   "source": [
    "df.columns"
   ]
  },
  {
   "cell_type": "markdown",
   "metadata": {
    "id": "jwYH_tUH1saK"
   },
   "source": [
    "# **6. Remove unwanted characters in the column names and keep all the letters in lowercase**"
   ]
  },
  {
   "cell_type": "code",
   "execution_count": 14,
   "metadata": {
    "colab": {
     "base_uri": "https://localhost:8080/"
    },
    "id": "5oIlNfyhC-bk",
    "outputId": "e1b964af-8954-4ecb-fc67-dfc7eb1dbdcc"
   },
   "outputs": [
    {
     "data": {
      "text/plain": [
       "Index(['company _(maker-if known)', 'specific bean origin_or bar name', 'ref',\n",
       "       'review_date', 'cocoa_percent', 'company_location', 'rating',\n",
       "       'bean_type', 'broad bean_origin'],\n",
       "      dtype='object')"
      ]
     },
     "execution_count": 14,
     "metadata": {},
     "output_type": "execute_result"
    }
   ],
   "source": [
    "df.columns = df.columns.str.replace('\\n','_')\n",
    "df.columns = df.columns.str.lower()\n",
    "df.columns"
   ]
  },
  {
   "cell_type": "code",
   "execution_count": 15,
   "metadata": {
    "colab": {
     "base_uri": "https://localhost:8080/",
     "height": 35
    },
    "id": "V9iM2WqRZN1p",
    "outputId": "4bfb9fa8-027f-4c92-fd10-7013935fd582"
   },
   "outputs": [
    {
     "data": {
      "text/plain": [
       "'broad bean_origin'"
      ]
     },
     "execution_count": 15,
     "metadata": {},
     "output_type": "execute_result"
    }
   ],
   "source": [
    "df.columns[-1] # Negative indexing"
   ]
  },
  {
   "cell_type": "code",
   "execution_count": 16,
   "metadata": {
    "colab": {
     "base_uri": "https://localhost:8080/",
     "height": 195
    },
    "id": "GOQO-qlQY5m2",
    "outputId": "eaa81d49-ca4c-43de-b24a-a1da68a6d334"
   },
   "outputs": [
    {
     "data": {
      "text/html": [
       "<div>\n",
       "<style scoped>\n",
       "    .dataframe tbody tr th:only-of-type {\n",
       "        vertical-align: middle;\n",
       "    }\n",
       "\n",
       "    .dataframe tbody tr th {\n",
       "        vertical-align: top;\n",
       "    }\n",
       "\n",
       "    .dataframe thead th {\n",
       "        text-align: right;\n",
       "    }\n",
       "</style>\n",
       "<table border=\"1\" class=\"dataframe\">\n",
       "  <thead>\n",
       "    <tr style=\"text-align: right;\">\n",
       "      <th></th>\n",
       "      <th>company</th>\n",
       "      <th>bean_origin</th>\n",
       "      <th>ref</th>\n",
       "      <th>review_date</th>\n",
       "      <th>cocoa_percent</th>\n",
       "      <th>company_location</th>\n",
       "      <th>rating</th>\n",
       "      <th>bean_type</th>\n",
       "      <th>broad_bean_origin</th>\n",
       "    </tr>\n",
       "  </thead>\n",
       "  <tbody>\n",
       "    <tr>\n",
       "      <th>0</th>\n",
       "      <td>A. Morin</td>\n",
       "      <td>Agua Grande</td>\n",
       "      <td>1876</td>\n",
       "      <td>2016</td>\n",
       "      <td>63%</td>\n",
       "      <td>France</td>\n",
       "      <td>3.75</td>\n",
       "      <td></td>\n",
       "      <td>Sao Tome</td>\n",
       "    </tr>\n",
       "    <tr>\n",
       "      <th>1</th>\n",
       "      <td>A. Morin</td>\n",
       "      <td>Kpime</td>\n",
       "      <td>1676</td>\n",
       "      <td>2015</td>\n",
       "      <td>70%</td>\n",
       "      <td>France</td>\n",
       "      <td>2.75</td>\n",
       "      <td></td>\n",
       "      <td>Togo</td>\n",
       "    </tr>\n",
       "    <tr>\n",
       "      <th>2</th>\n",
       "      <td>A. Morin</td>\n",
       "      <td>Atsane</td>\n",
       "      <td>1676</td>\n",
       "      <td>2015</td>\n",
       "      <td>70%</td>\n",
       "      <td>France</td>\n",
       "      <td>3.00</td>\n",
       "      <td></td>\n",
       "      <td>Togo</td>\n",
       "    </tr>\n",
       "    <tr>\n",
       "      <th>3</th>\n",
       "      <td>A. Morin</td>\n",
       "      <td>Akata</td>\n",
       "      <td>1680</td>\n",
       "      <td>2015</td>\n",
       "      <td>70%</td>\n",
       "      <td>France</td>\n",
       "      <td>3.50</td>\n",
       "      <td></td>\n",
       "      <td>Togo</td>\n",
       "    </tr>\n",
       "    <tr>\n",
       "      <th>4</th>\n",
       "      <td>A. Morin</td>\n",
       "      <td>Quilla</td>\n",
       "      <td>1704</td>\n",
       "      <td>2015</td>\n",
       "      <td>70%</td>\n",
       "      <td>France</td>\n",
       "      <td>3.50</td>\n",
       "      <td></td>\n",
       "      <td>Peru</td>\n",
       "    </tr>\n",
       "  </tbody>\n",
       "</table>\n",
       "</div>"
      ],
      "text/plain": [
       "    company  bean_origin   ref  review_date cocoa_percent company_location  \\\n",
       "0  A. Morin  Agua Grande  1876         2016           63%           France   \n",
       "1  A. Morin        Kpime  1676         2015           70%           France   \n",
       "2  A. Morin       Atsane  1676         2015           70%           France   \n",
       "3  A. Morin        Akata  1680         2015           70%           France   \n",
       "4  A. Morin       Quilla  1704         2015           70%           France   \n",
       "\n",
       "   rating bean_type broad_bean_origin  \n",
       "0    3.75                    Sao Tome  \n",
       "1    2.75                        Togo  \n",
       "2    3.00                        Togo  \n",
       "3    3.50                        Togo  \n",
       "4    3.50                        Peru  "
      ]
     },
     "execution_count": 16,
     "metadata": {},
     "output_type": "execute_result"
    }
   ],
   "source": [
    "df = df.rename(columns={df.columns[0]:'company',\n",
    "          df.columns[1]:'bean_origin',\n",
    "          df.columns[-1]:'broad_bean_origin'})\n",
    "df.head()"
   ]
  },
  {
   "cell_type": "code",
   "execution_count": 17,
   "metadata": {
    "colab": {
     "base_uri": "https://localhost:8080/"
    },
    "id": "lwiipjSPdLqH",
    "outputId": "552aa6ec-45cb-405f-8b8f-9ee97da978f7"
   },
   "outputs": [
    {
     "data": {
      "text/plain": [
       "6"
      ]
     },
     "execution_count": 17,
     "metadata": {},
     "output_type": "execute_result"
    }
   ],
   "source": [
    "# Get index value of column\n",
    "list(df.columns).index('rating')"
   ]
  },
  {
   "cell_type": "markdown",
   "metadata": {
    "id": "3BhDiemV2UTp"
   },
   "source": [
    "# **7. How to get a Series from DataFrame?**"
   ]
  },
  {
   "cell_type": "code",
   "execution_count": 18,
   "metadata": {
    "colab": {
     "base_uri": "https://localhost:8080/"
    },
    "id": "XP6g4OohC-ze",
    "outputId": "ffd0048a-9272-4c11-c68d-c21311f49085"
   },
   "outputs": [
    {
     "data": {
      "text/plain": [
       "pandas.core.series.Series"
      ]
     },
     "execution_count": 18,
     "metadata": {},
     "output_type": "execute_result"
    }
   ],
   "source": [
    "type(df['company'])"
   ]
  },
  {
   "cell_type": "code",
   "execution_count": 19,
   "metadata": {
    "colab": {
     "base_uri": "https://localhost:8080/"
    },
    "id": "9RRT_UigaxpT",
    "outputId": "419a020c-2111-4403-ab0f-fbe4097e2ead"
   },
   "outputs": [
    {
     "data": {
      "text/plain": [
       "1"
      ]
     },
     "execution_count": 19,
     "metadata": {},
     "output_type": "execute_result"
    }
   ],
   "source": [
    "df['company'].ndim"
   ]
  },
  {
   "cell_type": "markdown",
   "metadata": {
    "id": "LPjPv-dT2i_o"
   },
   "source": [
    "# **8. Slicing wrt to columns**"
   ]
  },
  {
   "cell_type": "code",
   "execution_count": 20,
   "metadata": {
    "colab": {
     "base_uri": "https://localhost:8080/",
     "height": 402
    },
    "id": "GKoOS5I2C_OV",
    "outputId": "feedda4f-f8c0-4ea5-d61d-87654a02e4d0"
   },
   "outputs": [
    {
     "data": {
      "text/html": [
       "<div>\n",
       "<style scoped>\n",
       "    .dataframe tbody tr th:only-of-type {\n",
       "        vertical-align: middle;\n",
       "    }\n",
       "\n",
       "    .dataframe tbody tr th {\n",
       "        vertical-align: top;\n",
       "    }\n",
       "\n",
       "    .dataframe thead th {\n",
       "        text-align: right;\n",
       "    }\n",
       "</style>\n",
       "<table border=\"1\" class=\"dataframe\">\n",
       "  <thead>\n",
       "    <tr style=\"text-align: right;\">\n",
       "      <th></th>\n",
       "      <th>company</th>\n",
       "      <th>ref</th>\n",
       "      <th>rating</th>\n",
       "    </tr>\n",
       "  </thead>\n",
       "  <tbody>\n",
       "    <tr>\n",
       "      <th>0</th>\n",
       "      <td>A. Morin</td>\n",
       "      <td>1876</td>\n",
       "      <td>3.75</td>\n",
       "    </tr>\n",
       "    <tr>\n",
       "      <th>1</th>\n",
       "      <td>A. Morin</td>\n",
       "      <td>1676</td>\n",
       "      <td>2.75</td>\n",
       "    </tr>\n",
       "    <tr>\n",
       "      <th>2</th>\n",
       "      <td>A. Morin</td>\n",
       "      <td>1676</td>\n",
       "      <td>3.00</td>\n",
       "    </tr>\n",
       "    <tr>\n",
       "      <th>3</th>\n",
       "      <td>A. Morin</td>\n",
       "      <td>1680</td>\n",
       "      <td>3.50</td>\n",
       "    </tr>\n",
       "    <tr>\n",
       "      <th>4</th>\n",
       "      <td>A. Morin</td>\n",
       "      <td>1704</td>\n",
       "      <td>3.50</td>\n",
       "    </tr>\n",
       "    <tr>\n",
       "      <th>...</th>\n",
       "      <td>...</td>\n",
       "      <td>...</td>\n",
       "      <td>...</td>\n",
       "    </tr>\n",
       "    <tr>\n",
       "      <th>1790</th>\n",
       "      <td>Zotter</td>\n",
       "      <td>647</td>\n",
       "      <td>3.75</td>\n",
       "    </tr>\n",
       "    <tr>\n",
       "      <th>1791</th>\n",
       "      <td>Zotter</td>\n",
       "      <td>749</td>\n",
       "      <td>3.00</td>\n",
       "    </tr>\n",
       "    <tr>\n",
       "      <th>1792</th>\n",
       "      <td>Zotter</td>\n",
       "      <td>749</td>\n",
       "      <td>3.50</td>\n",
       "    </tr>\n",
       "    <tr>\n",
       "      <th>1793</th>\n",
       "      <td>Zotter</td>\n",
       "      <td>781</td>\n",
       "      <td>3.25</td>\n",
       "    </tr>\n",
       "    <tr>\n",
       "      <th>1794</th>\n",
       "      <td>Zotter</td>\n",
       "      <td>486</td>\n",
       "      <td>3.00</td>\n",
       "    </tr>\n",
       "  </tbody>\n",
       "</table>\n",
       "<p>1795 rows × 3 columns</p>\n",
       "</div>"
      ],
      "text/plain": [
       "       company   ref  rating\n",
       "0     A. Morin  1876    3.75\n",
       "1     A. Morin  1676    2.75\n",
       "2     A. Morin  1676    3.00\n",
       "3     A. Morin  1680    3.50\n",
       "4     A. Morin  1704    3.50\n",
       "...        ...   ...     ...\n",
       "1790    Zotter   647    3.75\n",
       "1791    Zotter   749    3.00\n",
       "1792    Zotter   749    3.50\n",
       "1793    Zotter   781    3.25\n",
       "1794    Zotter   486    3.00\n",
       "\n",
       "[1795 rows x 3 columns]"
      ]
     },
     "execution_count": 20,
     "metadata": {},
     "output_type": "execute_result"
    }
   ],
   "source": [
    "# company,ref,rating\n",
    "df[['company','ref','rating']]"
   ]
  },
  {
   "cell_type": "code",
   "execution_count": 21,
   "metadata": {
    "colab": {
     "base_uri": "https://localhost:8080/"
    },
    "id": "Tr5nBQ0MciQz",
    "outputId": "ccdbd764-3936-498d-ca39-858f1291d8de"
   },
   "outputs": [
    {
     "data": {
      "text/plain": [
       "[3, 4, 5, 67]"
      ]
     },
     "execution_count": 21,
     "metadata": {},
     "output_type": "execute_result"
    }
   ],
   "source": [
    "a = [1,2,3,4,5,67]\n",
    "a[2:]"
   ]
  },
  {
   "cell_type": "code",
   "execution_count": 22,
   "metadata": {
    "colab": {
     "base_uri": "https://localhost:8080/",
     "height": 402
    },
    "id": "XGutC1DCbiz7",
    "outputId": "b8bcb896-7836-4a32-921b-f84df2400ee8"
   },
   "outputs": [
    {
     "data": {
      "text/html": [
       "<div>\n",
       "<style scoped>\n",
       "    .dataframe tbody tr th:only-of-type {\n",
       "        vertical-align: middle;\n",
       "    }\n",
       "\n",
       "    .dataframe tbody tr th {\n",
       "        vertical-align: top;\n",
       "    }\n",
       "\n",
       "    .dataframe thead th {\n",
       "        text-align: right;\n",
       "    }\n",
       "</style>\n",
       "<table border=\"1\" class=\"dataframe\">\n",
       "  <thead>\n",
       "    <tr style=\"text-align: right;\">\n",
       "      <th></th>\n",
       "      <th>company</th>\n",
       "      <th>ref</th>\n",
       "      <th>rating</th>\n",
       "      <th>review_date</th>\n",
       "    </tr>\n",
       "  </thead>\n",
       "  <tbody>\n",
       "    <tr>\n",
       "      <th>2</th>\n",
       "      <td>A. Morin</td>\n",
       "      <td>1676</td>\n",
       "      <td>3.00</td>\n",
       "      <td>2015</td>\n",
       "    </tr>\n",
       "    <tr>\n",
       "      <th>3</th>\n",
       "      <td>A. Morin</td>\n",
       "      <td>1680</td>\n",
       "      <td>3.50</td>\n",
       "      <td>2015</td>\n",
       "    </tr>\n",
       "    <tr>\n",
       "      <th>4</th>\n",
       "      <td>A. Morin</td>\n",
       "      <td>1704</td>\n",
       "      <td>3.50</td>\n",
       "      <td>2015</td>\n",
       "    </tr>\n",
       "    <tr>\n",
       "      <th>5</th>\n",
       "      <td>A. Morin</td>\n",
       "      <td>1315</td>\n",
       "      <td>2.75</td>\n",
       "      <td>2014</td>\n",
       "    </tr>\n",
       "    <tr>\n",
       "      <th>6</th>\n",
       "      <td>A. Morin</td>\n",
       "      <td>1315</td>\n",
       "      <td>3.50</td>\n",
       "      <td>2014</td>\n",
       "    </tr>\n",
       "    <tr>\n",
       "      <th>...</th>\n",
       "      <td>...</td>\n",
       "      <td>...</td>\n",
       "      <td>...</td>\n",
       "      <td>...</td>\n",
       "    </tr>\n",
       "    <tr>\n",
       "      <th>1790</th>\n",
       "      <td>Zotter</td>\n",
       "      <td>647</td>\n",
       "      <td>3.75</td>\n",
       "      <td>2011</td>\n",
       "    </tr>\n",
       "    <tr>\n",
       "      <th>1791</th>\n",
       "      <td>Zotter</td>\n",
       "      <td>749</td>\n",
       "      <td>3.00</td>\n",
       "      <td>2011</td>\n",
       "    </tr>\n",
       "    <tr>\n",
       "      <th>1792</th>\n",
       "      <td>Zotter</td>\n",
       "      <td>749</td>\n",
       "      <td>3.50</td>\n",
       "      <td>2011</td>\n",
       "    </tr>\n",
       "    <tr>\n",
       "      <th>1793</th>\n",
       "      <td>Zotter</td>\n",
       "      <td>781</td>\n",
       "      <td>3.25</td>\n",
       "      <td>2011</td>\n",
       "    </tr>\n",
       "    <tr>\n",
       "      <th>1794</th>\n",
       "      <td>Zotter</td>\n",
       "      <td>486</td>\n",
       "      <td>3.00</td>\n",
       "      <td>2010</td>\n",
       "    </tr>\n",
       "  </tbody>\n",
       "</table>\n",
       "<p>1793 rows × 4 columns</p>\n",
       "</div>"
      ],
      "text/plain": [
       "       company   ref  rating  review_date\n",
       "2     A. Morin  1676    3.00         2015\n",
       "3     A. Morin  1680    3.50         2015\n",
       "4     A. Morin  1704    3.50         2015\n",
       "5     A. Morin  1315    2.75         2014\n",
       "6     A. Morin  1315    3.50         2014\n",
       "...        ...   ...     ...          ...\n",
       "1790    Zotter   647    3.75         2011\n",
       "1791    Zotter   749    3.00         2011\n",
       "1792    Zotter   749    3.50         2011\n",
       "1793    Zotter   781    3.25         2011\n",
       "1794    Zotter   486    3.00         2010\n",
       "\n",
       "[1793 rows x 4 columns]"
      ]
     },
     "execution_count": 22,
     "metadata": {},
     "output_type": "execute_result"
    }
   ],
   "source": [
    "# iloc = index of the location\n",
    "df.iloc[2:,[0,2,6,3]]"
   ]
  },
  {
   "cell_type": "markdown",
   "metadata": {
    "id": "e0G2AucZ2sqA"
   },
   "source": [
    "# **9. 3 Functionalities**\n",
    "\n",
    "1. How many unique values are available in each and every column?\n",
    "2. What are the unique values in rating?\n",
    "Ex: A.Morin, Zotter\n",
    "Ex:2.75,5.00\n",
    "3. How many times unique values are present in Ratings column? "
   ]
  },
  {
   "cell_type": "code",
   "execution_count": 23,
   "metadata": {
    "colab": {
     "base_uri": "https://localhost:8080/"
    },
    "id": "GV7Ehq6jC_wc",
    "outputId": "e5328005-4e9f-49ec-c158-cbcb9201022e"
   },
   "outputs": [
    {
     "data": {
      "text/plain": [
       "(array([1, 2, 3]), array([3, 3, 6], dtype=int64))"
      ]
     },
     "execution_count": 23,
     "metadata": {},
     "output_type": "execute_result"
    }
   ],
   "source": [
    "a = [1,1,1,2,2,2,3,3,3,3,3,3]\n",
    "# 3 unique values\n",
    "# 1,2,3\n",
    "# 1 - 3 times\n",
    "# 2 - 3 times\n",
    "# 3 - 6 times\n",
    "import numpy as np\n",
    "op = np.array(a)\n",
    "np.unique(a,return_counts=True)"
   ]
  },
  {
   "cell_type": "code",
   "execution_count": 24,
   "metadata": {
    "colab": {
     "base_uri": "https://localhost:8080/"
    },
    "id": "GziEib_GfYgH",
    "outputId": "c5630aaf-e908-483b-c0b0-d9b708a1e321"
   },
   "outputs": [
    {
     "data": {
      "text/plain": [
       "company               416\n",
       "bean_origin          1039\n",
       "ref                   440\n",
       "review_date            12\n",
       "cocoa_percent          45\n",
       "company_location       60\n",
       "rating                 13\n",
       "bean_type              41\n",
       "broad_bean_origin     100\n",
       "dtype: int64"
      ]
     },
     "execution_count": 24,
     "metadata": {},
     "output_type": "execute_result"
    }
   ],
   "source": [
    "df.nunique()\n",
    "\n",
    "# It can be used for both dataframe as well as series"
   ]
  },
  {
   "cell_type": "code",
   "execution_count": 25,
   "metadata": {
    "colab": {
     "base_uri": "https://localhost:8080/"
    },
    "id": "sFk5Nm80f2Pt",
    "outputId": "35804405-3a17-4e77-95fa-63e41ee8a587"
   },
   "outputs": [
    {
     "data": {
      "text/plain": [
       "array([3.75, 2.75, 3.  , 3.5 , 4.  , 3.25, 2.5 , 5.  , 1.75, 1.5 , 2.25,\n",
       "       2.  , 1.  ])"
      ]
     },
     "execution_count": 25,
     "metadata": {},
     "output_type": "execute_result"
    }
   ],
   "source": [
    "df['rating'].unique()\n",
    "# It should be used only for series"
   ]
  },
  {
   "cell_type": "code",
   "execution_count": 26,
   "metadata": {
    "colab": {
     "base_uri": "https://localhost:8080/"
    },
    "id": "V3sarzFHgIys",
    "outputId": "4c9f455e-4308-4eb1-dd25-caac5cc49b18"
   },
   "outputs": [
    {
     "data": {
      "text/plain": [
       "(array([1.  , 1.5 , 1.75, 2.  , 2.25, 2.5 , 2.75, 3.  , 3.25, 3.5 , 3.75,\n",
       "        4.  , 5.  ]),\n",
       " array([  4,  10,   3,  32,  14, 127, 259, 341, 303, 392, 210,  98,   2],\n",
       "       dtype=int64))"
      ]
     },
     "execution_count": 26,
     "metadata": {},
     "output_type": "execute_result"
    }
   ],
   "source": [
    "# method 1\n",
    "op = np.array(df['rating'])\n",
    "np.unique(op,return_counts=True)"
   ]
  },
  {
   "cell_type": "code",
   "execution_count": 27,
   "metadata": {
    "colab": {
     "base_uri": "https://localhost:8080/"
    },
    "id": "yTQ6cld_getI",
    "outputId": "5435da96-55cc-43a9-807a-62fb02a4c3d4"
   },
   "outputs": [
    {
     "data": {
      "text/plain": [
       "1.00      4\n",
       "1.50     10\n",
       "1.75      3\n",
       "2.00     32\n",
       "2.25     14\n",
       "2.50    127\n",
       "2.75    259\n",
       "3.00    341\n",
       "3.25    303\n",
       "3.50    392\n",
       "3.75    210\n",
       "4.00     98\n",
       "5.00      2\n",
       "Name: rating, dtype: int64"
      ]
     },
     "execution_count": 27,
     "metadata": {},
     "output_type": "execute_result"
    }
   ],
   "source": [
    "# Method 2\n",
    "r = df['rating'].value_counts().sort_index(ascending=True)\n",
    "r"
   ]
  },
  {
   "cell_type": "code",
   "execution_count": 28,
   "metadata": {
    "colab": {
     "base_uri": "https://localhost:8080/"
    },
    "id": "oLRPv0SRi5XY",
    "outputId": "74d67df5-f1b9-45d1-beba-e8705a586180"
   },
   "outputs": [
    {
     "data": {
      "text/plain": [
       "array([1.  , 1.5 , 1.75, 2.  , 2.25, 2.5 , 2.75, 3.  , 3.25, 3.5 , 3.75,\n",
       "       4.  , 5.  ])"
      ]
     },
     "execution_count": 28,
     "metadata": {},
     "output_type": "execute_result"
    }
   ],
   "source": [
    "np.array(r.index)"
   ]
  },
  {
   "cell_type": "code",
   "execution_count": 29,
   "metadata": {
    "colab": {
     "base_uri": "https://localhost:8080/"
    },
    "id": "UzkJMuaViGIz",
    "outputId": "0f69cc37-258e-46fe-a339-98742c4dc10b"
   },
   "outputs": [
    {
     "data": {
      "text/plain": [
       "pandas.core.series.Series"
      ]
     },
     "execution_count": 29,
     "metadata": {},
     "output_type": "execute_result"
    }
   ],
   "source": [
    "type(r)"
   ]
  },
  {
   "cell_type": "code",
   "execution_count": 30,
   "metadata": {
    "id": "Gs8IDdQIg4nq"
   },
   "outputs": [],
   "source": [
    "# Plot : Graph, Chart [Visualization] Matplotlib\n",
    "# Line Plot\n",
    "# Scatter Plot\n",
    "# Bar Graph\n",
    "# Pie Chart"
   ]
  },
  {
   "cell_type": "code",
   "execution_count": 57,
   "metadata": {
    "colab": {
     "base_uri": "https://localhost:8080/",
     "height": 295
    },
    "id": "-6N_roQjhraF",
    "outputId": "40ccc10f-c321-4c4a-f9b8-ba4d1f960500"
   },
   "outputs": [
    {
     "data": {
      "image/png": "[encoded data removed]",
      "text/plain": [
       "<Figure size 432x288 with 1 Axes>"
      ]
     },
     "metadata": {
      "needs_background": "light"
     },
     "output_type": "display_data"
    }
   ],
   "source": [
    "import matplotlib.pyplot as plt\n",
    "plt.bar(r.index.astype(str),r,color=['r'])\n",
    "plt.xlabel('Rating')\n",
    "plt.ylabel('Count')\n",
    "plt.title('Bar Graph')\n",
    "plt.show()"
   ]
  },
  {
   "cell_type": "markdown",
   "metadata": {
    "id": "n4rO_1lg7D2Y"
   },
   "source": [
    "# **10. Checking for missing values**"
   ]
  },
  {
   "cell_type": "code",
   "execution_count": 32,
   "metadata": {
    "colab": {
     "base_uri": "https://localhost:8080/"
    },
    "id": "c_CWx9yeCzTi",
    "outputId": "c3046548-3410-4fdd-e355-0eba308b5450"
   },
   "outputs": [
    {
     "name": "stdout",
     "output_type": "stream",
     "text": [
      "<class 'pandas.core.frame.DataFrame'>\n",
      "RangeIndex: 1795 entries, 0 to 1794\n",
      "Data columns (total 9 columns):\n",
      " #   Column             Non-Null Count  Dtype  \n",
      "---  ------             --------------  -----  \n",
      " 0   company            1795 non-null   object \n",
      " 1   bean_origin        1795 non-null   object \n",
      " 2   ref                1795 non-null   int64  \n",
      " 3   review_date        1795 non-null   int64  \n",
      " 4   cocoa_percent      1795 non-null   object \n",
      " 5   company_location   1795 non-null   object \n",
      " 6   rating             1795 non-null   float64\n",
      " 7   bean_type          1794 non-null   object \n",
      " 8   broad_bean_origin  1794 non-null   object \n",
      "dtypes: float64(1), int64(2), object(6)\n",
      "memory usage: 126.3+ KB\n"
     ]
    }
   ],
   "source": [
    "df.info()"
   ]
  },
  {
   "cell_type": "code",
   "execution_count": 33,
   "metadata": {
    "colab": {
     "base_uri": "https://localhost:8080/"
    },
    "id": "ocB97-eKk0zP",
    "outputId": "771cc9cf-0ef2-4b38-8841-26e33faf77ed"
   },
   "outputs": [
    {
     "data": {
      "text/plain": [
       "company              0\n",
       "bean_origin          0\n",
       "ref                  0\n",
       "review_date          0\n",
       "cocoa_percent        0\n",
       "company_location     0\n",
       "rating               0\n",
       "bean_type            1\n",
       "broad_bean_origin    1\n",
       "dtype: int64"
      ]
     },
     "execution_count": 33,
     "metadata": {},
     "output_type": "execute_result"
    }
   ],
   "source": [
    "df.isnull().sum()"
   ]
  },
  {
   "cell_type": "code",
   "execution_count": 34,
   "metadata": {
    "colab": {
     "base_uri": "https://localhost:8080/",
     "height": 402
    },
    "id": "GEF0C5hAlWp0",
    "outputId": "a18c06e6-8d43-47d4-98a5-749903b4e0ff"
   },
   "outputs": [
    {
     "data": {
      "text/html": [
       "<div>\n",
       "<style scoped>\n",
       "    .dataframe tbody tr th:only-of-type {\n",
       "        vertical-align: middle;\n",
       "    }\n",
       "\n",
       "    .dataframe tbody tr th {\n",
       "        vertical-align: top;\n",
       "    }\n",
       "\n",
       "    .dataframe thead th {\n",
       "        text-align: right;\n",
       "    }\n",
       "</style>\n",
       "<table border=\"1\" class=\"dataframe\">\n",
       "  <thead>\n",
       "    <tr style=\"text-align: right;\">\n",
       "      <th></th>\n",
       "      <th>bean_type</th>\n",
       "    </tr>\n",
       "  </thead>\n",
       "  <tbody>\n",
       "    <tr>\n",
       "      <th>0</th>\n",
       "      <td></td>\n",
       "    </tr>\n",
       "    <tr>\n",
       "      <th>1</th>\n",
       "      <td></td>\n",
       "    </tr>\n",
       "    <tr>\n",
       "      <th>2</th>\n",
       "      <td></td>\n",
       "    </tr>\n",
       "    <tr>\n",
       "      <th>3</th>\n",
       "      <td></td>\n",
       "    </tr>\n",
       "    <tr>\n",
       "      <th>4</th>\n",
       "      <td></td>\n",
       "    </tr>\n",
       "    <tr>\n",
       "      <th>...</th>\n",
       "      <td>...</td>\n",
       "    </tr>\n",
       "    <tr>\n",
       "      <th>1790</th>\n",
       "      <td></td>\n",
       "    </tr>\n",
       "    <tr>\n",
       "      <th>1791</th>\n",
       "      <td>Forastero</td>\n",
       "    </tr>\n",
       "    <tr>\n",
       "      <th>1792</th>\n",
       "      <td>Forastero</td>\n",
       "    </tr>\n",
       "    <tr>\n",
       "      <th>1793</th>\n",
       "      <td></td>\n",
       "    </tr>\n",
       "    <tr>\n",
       "      <th>1794</th>\n",
       "      <td></td>\n",
       "    </tr>\n",
       "  </tbody>\n",
       "</table>\n",
       "<p>1795 rows × 1 columns</p>\n",
       "</div>"
      ],
      "text/plain": [
       "      bean_type\n",
       "0              \n",
       "1              \n",
       "2              \n",
       "3              \n",
       "4              \n",
       "...         ...\n",
       "1790           \n",
       "1791  Forastero\n",
       "1792  Forastero\n",
       "1793           \n",
       "1794           \n",
       "\n",
       "[1795 rows x 1 columns]"
      ]
     },
     "execution_count": 34,
     "metadata": {},
     "output_type": "execute_result"
    }
   ],
   "source": [
    "# Check for np.where and use it with isnull()\n",
    "df[['bean_type']]"
   ]
  },
  {
   "cell_type": "code",
   "execution_count": 35,
   "metadata": {
    "colab": {
     "base_uri": "https://localhost:8080/"
    },
    "id": "Fz2Zf5b0lyXC",
    "outputId": "a8e6df1c-3127-4c9a-a24e-29c85527ace8"
   },
   "outputs": [
    {
     "data": {
      "text/plain": [
       "array(['\\xa0', 'Criollo', 'Trinitario', 'Forastero (Arriba)', 'Forastero',\n",
       "       'Forastero (Nacional)', 'Criollo, Trinitario',\n",
       "       'Criollo (Porcelana)', 'Blend', 'Trinitario (85% Criollo)',\n",
       "       'Forastero (Catongo)', 'Forastero (Parazinho)',\n",
       "       'Trinitario, Criollo', 'CCN51', 'Criollo (Ocumare)', 'Nacional',\n",
       "       'Criollo (Ocumare 61)', 'Criollo (Ocumare 77)',\n",
       "       'Criollo (Ocumare 67)', 'Criollo (Wild)', 'Beniano', 'Amazon mix',\n",
       "       'Trinitario, Forastero', 'Forastero (Arriba) ASS', 'Criollo, +',\n",
       "       'Amazon', 'Amazon, ICS', 'EET', 'Blend-Forastero,Criollo',\n",
       "       'Trinitario (Scavina)', 'Criollo, Forastero', 'Matina',\n",
       "       'Forastero(Arriba, CCN)', 'Nacional (Arriba)',\n",
       "       'Forastero (Arriba) ASSS', 'Forastero, Trinitario',\n",
       "       'Forastero (Amelonado)', nan, 'Trinitario, Nacional',\n",
       "       'Trinitario (Amelonado)', 'Trinitario, TCGA', 'Criollo (Amarru)'],\n",
       "      dtype=object)"
      ]
     },
     "execution_count": 35,
     "metadata": {},
     "output_type": "execute_result"
    }
   ],
   "source": [
    "df['bean_type'].unique()\n",
    "# \\xa0 is actually non-breaking space in Latin1 (ISO 8859-1)"
   ]
  },
  {
   "cell_type": "code",
   "execution_count": 36,
   "metadata": {
    "colab": {
     "base_uri": "https://localhost:8080/"
    },
    "id": "6qtIZWfEmMdg",
    "outputId": "e1f6a8c9-03d4-4ac2-afc6-5967d2357b88"
   },
   "outputs": [
    {
     "data": {
      "text/plain": [
       "                            887\n",
       "Trinitario                  419\n",
       "Criollo                     153\n",
       "Forastero                    87\n",
       "Forastero (Nacional)         52\n",
       "Blend                        41\n",
       "Criollo, Trinitario          39\n",
       "Forastero (Arriba)           37\n",
       "Criollo (Porcelana)          10\n",
       "Trinitario, Criollo           9\n",
       "Forastero (Parazinho)         8\n",
       "Forastero (Arriba) ASS        6\n",
       "EET                           3\n",
       "Nacional (Arriba)             3\n",
       "Matina                        3\n",
       "Beniano                       3\n",
       "Trinitario (85% Criollo)      2\n",
       "Forastero (Catongo)           2\n",
       "Amazon mix                    2\n",
       "Criollo, Forastero            2\n",
       "Criollo (Amarru)              2\n",
       "Amazon, ICS                   2\n",
       "Trinitario, Forastero         2\n",
       "Nacional                      2\n",
       "Criollo (Ocumare 61)          2\n",
       "Criollo (Ocumare 67)          1\n",
       "Trinitario (Amelonado)        1\n",
       "Trinitario, Nacional          1\n",
       "Forastero (Arriba) ASSS       1\n",
       "Trinitario (Scavina)          1\n",
       "Criollo (Wild)                1\n",
       "Criollo (Ocumare 77)          1\n",
       "Forastero(Arriba, CCN)        1\n",
       "Blend-Forastero,Criollo       1\n",
       "Criollo, +                    1\n",
       "Criollo (Ocumare)             1\n",
       "CCN51                         1\n",
       "Trinitario, TCGA              1\n",
       "Forastero (Amelonado)         1\n",
       "Forastero, Trinitario         1\n",
       "Amazon                        1\n",
       "Name: bean_type, dtype: int64"
      ]
     },
     "execution_count": 36,
     "metadata": {},
     "output_type": "execute_result"
    }
   ],
   "source": [
    "df['bean_type'].value_counts()\n",
    "\n",
    "# Replace the space with missing value and change it with mode"
   ]
  },
  {
   "cell_type": "code",
   "execution_count": 37,
   "metadata": {
    "colab": {
     "base_uri": "https://localhost:8080/"
    },
    "id": "VJ1Wd-Ppmk2v",
    "outputId": "94c83eac-51ce-4b01-f6c7-12753d0d76d7"
   },
   "outputs": [
    {
     "data": {
      "text/plain": [
       "0       Trinitario\n",
       "1       Trinitario\n",
       "2       Trinitario\n",
       "3       Trinitario\n",
       "4       Trinitario\n",
       "           ...    \n",
       "1790    Trinitario\n",
       "1791     Forastero\n",
       "1792     Forastero\n",
       "1793    Trinitario\n",
       "1794    Trinitario\n",
       "Name: bean_type, Length: 1795, dtype: object"
      ]
     },
     "execution_count": 37,
     "metadata": {},
     "output_type": "execute_result"
    }
   ],
   "source": [
    "df['bean_type'] = df['bean_type'].replace({'\\xa0':None})\n",
    "df['bean_type'] = df['bean_type'].fillna(df['bean_type'].mode()[0])\n",
    "df['bean_type']\n",
    "\n",
    "# https://stackoverflow.com/questions/38117016/update-pandas-dataframe-with-str-replace-vs-replace"
   ]
  },
  {
   "cell_type": "code",
   "execution_count": 38,
   "metadata": {
    "colab": {
     "base_uri": "https://localhost:8080/"
    },
    "id": "etypmJocnnXJ",
    "outputId": "c6ded5b9-f5d3-4a47-a7a3-8071497221cd"
   },
   "outputs": [
    {
     "data": {
      "text/plain": [
       "0    Trinitario\n",
       "dtype: object"
      ]
     },
     "execution_count": 38,
     "metadata": {},
     "output_type": "execute_result"
    }
   ],
   "source": [
    "df['bean_type'].mode()"
   ]
  },
  {
   "cell_type": "markdown",
   "metadata": {
    "id": "-2Er7vCN8mdt"
   },
   "source": [
    "# **11. Plot top 5 Bean Types**"
   ]
  },
  {
   "cell_type": "code",
   "execution_count": 39,
   "metadata": {
    "colab": {
     "base_uri": "https://localhost:8080/"
    },
    "id": "kTDbf-fRo3sJ",
    "outputId": "c0238b83-b9d9-4650-ba06-0384018984d5"
   },
   "outputs": [
    {
     "data": {
      "text/plain": [
       "Trinitario              1307\n",
       "Criollo                  153\n",
       "Forastero                 87\n",
       "Forastero (Nacional)      52\n",
       "Blend                     41\n",
       "Name: bean_type, dtype: int64"
      ]
     },
     "execution_count": 39,
     "metadata": {},
     "output_type": "execute_result"
    }
   ],
   "source": [
    "b = df['bean_type'].value_counts().head()\n",
    "b"
   ]
  },
  {
   "cell_type": "code",
   "execution_count": 40,
   "metadata": {
    "colab": {
     "base_uri": "https://localhost:8080/",
     "height": 398
    },
    "id": "ue1bLAFNo7IQ",
    "outputId": "02084351-e249-4223-fdb6-4389926cf56b"
   },
   "outputs": [
    {
     "data": {
      "text/plain": [
       "Text(0, 0.5, 'Count')"
      ]
     },
     "execution_count": 40,
     "metadata": {},
     "output_type": "execute_result"
    },
    {
     "data": {
      "image/png": "[encoded data removed]",
      "text/plain": [
       "<Figure size 720x288 with 1 Axes>"
      ]
     },
     "metadata": {
      "needs_background": "light"
     },
     "output_type": "display_data"
    }
   ],
   "source": [
    "# Pandas Plotting\n",
    "\n",
    "b.plot(kind='bar',figsize=(10,4))\n",
    "for i in range(len(b)):\n",
    "  plt.text(i,b[i],b[i],fontsize=15,ha='center')\n",
    "plt.xlabel('Cocao Bean Type',fontsize=20)\n",
    "plt.ylabel('Count')"
   ]
  },
  {
   "cell_type": "code",
   "execution_count": null,
   "metadata": {
    "id": "0gus-eKoC1QE"
   },
   "outputs": [],
   "source": []
  },
  {
   "cell_type": "markdown",
   "metadata": {
    "id": "PKaUgYRtBaa9"
   },
   "source": [
    "# **12. Cocoa percent over the years**"
   ]
  },
  {
   "cell_type": "code",
   "execution_count": 41,
   "metadata": {
    "colab": {
     "base_uri": "https://localhost:8080/"
    },
    "id": "ylTvRnOMC3jU",
    "outputId": "6a5913a6-b0b3-48e4-ee35-79f717640bb5"
   },
   "outputs": [
    {
     "data": {
      "text/plain": [
       "0       0.63\n",
       "1       0.70\n",
       "2       0.70\n",
       "3       0.70\n",
       "4       0.70\n",
       "        ... \n",
       "1790    0.70\n",
       "1791    0.65\n",
       "1792    0.65\n",
       "1793    0.62\n",
       "1794    0.65\n",
       "Name: cocoa_percent, Length: 1795, dtype: float64"
      ]
     },
     "execution_count": 41,
     "metadata": {},
     "output_type": "execute_result"
    }
   ],
   "source": [
    "df['cocoa_percent'] = df['cocoa_percent'].str.replace('%','').astype(float)/100\n",
    "df['cocoa_percent']"
   ]
  },
  {
   "cell_type": "code",
   "execution_count": 42,
   "metadata": {
    "colab": {
     "base_uri": "https://localhost:8080/",
     "height": 265
    },
    "id": "sEu_qoQtrgQV",
    "outputId": "05f00cd2-0749-4044-bbdd-780486c715e5"
   },
   "outputs": [
    {
     "data": {
      "image/png": "[encoded data removed]",
      "text/plain": [
       "<Figure size 432x288 with 1 Axes>"
      ]
     },
     "metadata": {
      "needs_background": "light"
     },
     "output_type": "display_data"
    }
   ],
   "source": [
    "plt.scatter(df['rating'],df['cocoa_percent'])\n",
    "plt.show()"
   ]
  },
  {
   "cell_type": "code",
   "execution_count": 43,
   "metadata": {
    "colab": {
     "base_uri": "https://localhost:8080/",
     "height": 265
    },
    "id": "K6ujGHWUsF-D",
    "outputId": "cd1d1dbf-b5d1-4d06-c656-69d4e02df56f"
   },
   "outputs": [
    {
     "data": {
      "image/png": "[encoded data removed]",
      "text/plain": [
       "<Figure size 432x288 with 1 Axes>"
      ]
     },
     "metadata": {
      "needs_background": "light"
     },
     "output_type": "display_data"
    }
   ],
   "source": [
    "plt.scatter(df['review_date'],df['cocoa_percent'])\n",
    "plt.show()"
   ]
  },
  {
   "cell_type": "code",
   "execution_count": 44,
   "metadata": {
    "colab": {
     "base_uri": "https://localhost:8080/",
     "height": 228
    },
    "id": "5ZF3IEzdsdsa",
    "outputId": "e99d976b-218f-43b3-a4f7-bbb1b384c5be"
   },
   "outputs": [
    {
     "data": {
      "text/plain": [
       "[<matplotlib.lines.Line2D at 0x185d8db4460>]"
      ]
     },
     "execution_count": 44,
     "metadata": {},
     "output_type": "execute_result"
    },
    {
     "data": {
      "image/png": "[encoded data removed]",
      "text/plain": [
       "<Figure size 1080x216 with 1 Axes>"
      ]
     },
     "metadata": {
      "needs_background": "light"
     },
     "output_type": "display_data"
    }
   ],
   "source": [
    "# 1st Method\n",
    "cocoa = df[['review_date','cocoa_percent']]\n",
    "cocoa_avg = []\n",
    "for i in range(2006,2018):\n",
    "  cocoa_avg.append(cocoa[cocoa['review_date']==i].mean()['cocoa_percent'])\n",
    "\n",
    "plt.figure(figsize=(15,3))\n",
    "plt.scatter(range(2006,2018),cocoa_avg)\n",
    "plt.plot(range(2006,2018),cocoa_avg,color='r')"
   ]
  },
  {
   "cell_type": "code",
   "execution_count": 45,
   "metadata": {
    "colab": {
     "base_uri": "https://localhost:8080/",
     "height": 243
    },
    "id": "XtQqO6iMt1sL",
    "outputId": "3192c006-50dd-42bb-9101-b3adea30f161"
   },
   "outputs": [
    {
     "data": {
      "text/plain": [
       "<AxesSubplot:xlabel='review_date'>"
      ]
     },
     "execution_count": 45,
     "metadata": {},
     "output_type": "execute_result"
    },
    {
     "data": {
      "image/png": "[encoded data removed]",
      "text/plain": [
       "<Figure size 1080x216 with 1 Axes>"
      ]
     },
     "metadata": {
      "needs_background": "light"
     },
     "output_type": "display_data"
    }
   ],
   "source": [
    "# Groupby ; Method in Pandas which creates DF/Series based on certain condition\n",
    "\n",
    "df1 = df.groupby('review_date').aggregate({'cocoa_percent':'mean'})\n",
    "df1.plot(figsize=(15,3))"
   ]
  },
  {
   "cell_type": "markdown",
   "metadata": {
    "id": "H0uemmwhB5cF"
   },
   "source": [
    "# **13. Seaborn Visualization**"
   ]
  },
  {
   "cell_type": "code",
   "execution_count": 46,
   "metadata": {
    "colab": {
     "base_uri": "https://localhost:8080/",
     "height": 198
    },
    "id": "03vFrFCaC4tQ",
    "outputId": "7bad6577-5547-4794-d098-162f88a204a9"
   },
   "outputs": [
    {
     "data": {
      "text/html": [
       "<div>\n",
       "<style scoped>\n",
       "    .dataframe tbody tr th:only-of-type {\n",
       "        vertical-align: middle;\n",
       "    }\n",
       "\n",
       "    .dataframe tbody tr th {\n",
       "        vertical-align: top;\n",
       "    }\n",
       "\n",
       "    .dataframe thead th {\n",
       "        text-align: right;\n",
       "    }\n",
       "</style>\n",
       "<table border=\"1\" class=\"dataframe\">\n",
       "  <thead>\n",
       "    <tr style=\"text-align: right;\">\n",
       "      <th></th>\n",
       "      <th>index</th>\n",
       "      <th>company</th>\n",
       "    </tr>\n",
       "  </thead>\n",
       "  <tbody>\n",
       "    <tr>\n",
       "      <th>0</th>\n",
       "      <td>Soma</td>\n",
       "      <td>47</td>\n",
       "    </tr>\n",
       "    <tr>\n",
       "      <th>1</th>\n",
       "      <td>Bonnat</td>\n",
       "      <td>27</td>\n",
       "    </tr>\n",
       "    <tr>\n",
       "      <th>2</th>\n",
       "      <td>Fresco</td>\n",
       "      <td>26</td>\n",
       "    </tr>\n",
       "    <tr>\n",
       "      <th>3</th>\n",
       "      <td>Pralus</td>\n",
       "      <td>25</td>\n",
       "    </tr>\n",
       "    <tr>\n",
       "      <th>4</th>\n",
       "      <td>A. Morin</td>\n",
       "      <td>23</td>\n",
       "    </tr>\n",
       "  </tbody>\n",
       "</table>\n",
       "</div>"
      ],
      "text/plain": [
       "      index  company\n",
       "0      Soma       47\n",
       "1    Bonnat       27\n",
       "2    Fresco       26\n",
       "3    Pralus       25\n",
       "4  A. Morin       23"
      ]
     },
     "execution_count": 46,
     "metadata": {},
     "output_type": "execute_result"
    }
   ],
   "source": [
    "# Seaborn is an advanced data visualization library built on top of matplotlib\n",
    "d = df['company'].value_counts().head(5)\n",
    "d = pd.DataFrame(d)\n",
    "d = d.reset_index()\n",
    "d"
   ]
  },
  {
   "cell_type": "code",
   "execution_count": 47,
   "metadata": {
    "colab": {
     "base_uri": "https://localhost:8080/",
     "height": 297
    },
    "id": "qnvHXC8vvRpI",
    "outputId": "485aeb75-0656-4a31-9f24-45dbab899b64"
   },
   "outputs": [
    {
     "data": {
      "text/plain": [
       "<AxesSubplot:xlabel='index', ylabel='company'>"
      ]
     },
     "execution_count": 47,
     "metadata": {},
     "output_type": "execute_result"
    },
    {
     "data": {
      "image/png": "[encoded data removed]",
      "text/plain": [
       "<Figure size 432x288 with 1 Axes>"
      ]
     },
     "metadata": {
      "needs_background": "light"
     },
     "output_type": "display_data"
    }
   ],
   "source": [
    "import seaborn as sns\n",
    "sns.barplot(x ='index',y='company',data=d)"
   ]
  },
  {
   "cell_type": "code",
   "execution_count": 48,
   "metadata": {
    "colab": {
     "base_uri": "https://localhost:8080/",
     "height": 297
    },
    "id": "kc5gTjAlvreG",
    "outputId": "1f3d46cb-e26e-4fcc-c338-5b06bf0a1639"
   },
   "outputs": [
    {
     "data": {
      "text/plain": [
       "<AxesSubplot:xlabel='rating', ylabel='Density'>"
      ]
     },
     "execution_count": 48,
     "metadata": {},
     "output_type": "execute_result"
    },
    {
     "data": {
      "image/png": "[encoded data removed]",
      "text/plain": [
       "<Figure size 432x288 with 1 Axes>"
      ]
     },
     "metadata": {
      "needs_background": "light"
     },
     "output_type": "display_data"
    }
   ],
   "source": [
    "sns.kdeplot(df['rating'])"
   ]
  },
  {
   "cell_type": "markdown",
   "metadata": {
    "id": "Vtr60PqaCAw8"
   },
   "source": [
    "# **14. Consider Ratings and divide them into different categories and plot a pie chart**"
   ]
  },
  {
   "cell_type": "code",
   "execution_count": 49,
   "metadata": {
    "colab": {
     "base_uri": "https://localhost:8080/",
     "height": 303
    },
    "id": "Kh2TI2n8C6BM",
    "outputId": "fc6e7499-f3cb-494b-9753-bafddd569545"
   },
   "outputs": [
    {
     "data": {
      "image/png": "[encoded data removed]",
      "text/plain": [
       "<Figure size 360x360 with 1 Axes>"
      ]
     },
     "metadata": {},
     "output_type": "display_data"
    }
   ],
   "source": [
    "label = ['Disappointing','Satisfactory',' Premium and Elite']\n",
    "\n",
    "disapoint = df[df['rating']<2]\n",
    "satisfactory = df[(df['rating']>=2.0) &(df['rating']<3.0)]\n",
    "premium_elite = df[df['rating']>=3.0]\n",
    "\n",
    "x = [disapoint.shape[0],satisfactory.shape[0],premium_elite.shape[0]]\n",
    "plt.figure(figsize=(5,5))\n",
    "plt.pie(x,labels=label)\n",
    "plt.show()"
   ]
  },
  {
   "cell_type": "markdown",
   "metadata": {
    "id": "sPKZQT5BCMi9"
   },
   "source": [
    "# **15. Encoding**"
   ]
  },
  {
   "cell_type": "code",
   "execution_count": 50,
   "metadata": {
    "id": "uDsFrvlIQW3U"
   },
   "outputs": [
    {
     "data": {
      "text/plain": [
       "company               416\n",
       "bean_origin          1039\n",
       "ref                   440\n",
       "review_date            12\n",
       "cocoa_percent          45\n",
       "company_location       60\n",
       "rating                 13\n",
       "bean_type              40\n",
       "broad_bean_origin     100\n",
       "dtype: int64"
      ]
     },
     "execution_count": 50,
     "metadata": {},
     "output_type": "execute_result"
    }
   ],
   "source": [
    "df.nunique()"
   ]
  },
  {
   "cell_type": "code",
   "execution_count": 53,
   "metadata": {},
   "outputs": [
    {
     "data": {
      "text/plain": [
       "array(['Trinitario', 'Criollo', 'Forastero (Arriba)', 'Forastero',\n",
       "       'Forastero (Nacional)', 'Criollo, Trinitario',\n",
       "       'Criollo (Porcelana)', 'Blend', 'Trinitario (85% Criollo)',\n",
       "       'Forastero (Catongo)', 'Forastero (Parazinho)',\n",
       "       'Trinitario, Criollo', 'CCN51', 'Criollo (Ocumare)', 'Nacional',\n",
       "       'Criollo (Ocumare 61)', 'Criollo (Ocumare 77)',\n",
       "       'Criollo (Ocumare 67)', 'Criollo (Wild)', 'Beniano', 'Amazon mix',\n",
       "       'Trinitario, Forastero', 'Forastero (Arriba) ASS', 'Criollo, +',\n",
       "       'Amazon', 'Amazon, ICS', 'EET', 'Blend-Forastero,Criollo',\n",
       "       'Trinitario (Scavina)', 'Criollo, Forastero', 'Matina',\n",
       "       'Forastero(Arriba, CCN)', 'Nacional (Arriba)',\n",
       "       'Forastero (Arriba) ASSS', 'Forastero, Trinitario',\n",
       "       'Forastero (Amelonado)', 'Trinitario, Nacional',\n",
       "       'Trinitario (Amelonado)', 'Trinitario, TCGA', 'Criollo (Amarru)'],\n",
       "      dtype=object)"
      ]
     },
     "execution_count": 53,
     "metadata": {},
     "output_type": "execute_result"
    }
   ],
   "source": [
    "df['bean_type'].unique()"
   ]
  },
  {
   "cell_type": "code",
   "execution_count": 52,
   "metadata": {},
   "outputs": [
    {
     "data": {
      "text/html": [
       "<div>\n",
       "<style scoped>\n",
       "    .dataframe tbody tr th:only-of-type {\n",
       "        vertical-align: middle;\n",
       "    }\n",
       "\n",
       "    .dataframe tbody tr th {\n",
       "        vertical-align: top;\n",
       "    }\n",
       "\n",
       "    .dataframe thead th {\n",
       "        text-align: right;\n",
       "    }\n",
       "</style>\n",
       "<table border=\"1\" class=\"dataframe\">\n",
       "  <thead>\n",
       "    <tr style=\"text-align: right;\">\n",
       "      <th></th>\n",
       "      <th>Amazon</th>\n",
       "      <th>Amazon mix</th>\n",
       "      <th>Amazon, ICS</th>\n",
       "      <th>Beniano</th>\n",
       "      <th>Blend</th>\n",
       "      <th>Blend-Forastero,Criollo</th>\n",
       "      <th>CCN51</th>\n",
       "      <th>Criollo</th>\n",
       "      <th>Criollo (Amarru)</th>\n",
       "      <th>Criollo (Ocumare 61)</th>\n",
       "      <th>...</th>\n",
       "      <th>Nacional</th>\n",
       "      <th>Nacional (Arriba)</th>\n",
       "      <th>Trinitario</th>\n",
       "      <th>Trinitario (85% Criollo)</th>\n",
       "      <th>Trinitario (Amelonado)</th>\n",
       "      <th>Trinitario (Scavina)</th>\n",
       "      <th>Trinitario, Criollo</th>\n",
       "      <th>Trinitario, Forastero</th>\n",
       "      <th>Trinitario, Nacional</th>\n",
       "      <th>Trinitario, TCGA</th>\n",
       "    </tr>\n",
       "  </thead>\n",
       "  <tbody>\n",
       "    <tr>\n",
       "      <th>0</th>\n",
       "      <td>0</td>\n",
       "      <td>0</td>\n",
       "      <td>0</td>\n",
       "      <td>0</td>\n",
       "      <td>0</td>\n",
       "      <td>0</td>\n",
       "      <td>0</td>\n",
       "      <td>0</td>\n",
       "      <td>0</td>\n",
       "      <td>0</td>\n",
       "      <td>...</td>\n",
       "      <td>0</td>\n",
       "      <td>0</td>\n",
       "      <td>1</td>\n",
       "      <td>0</td>\n",
       "      <td>0</td>\n",
       "      <td>0</td>\n",
       "      <td>0</td>\n",
       "      <td>0</td>\n",
       "      <td>0</td>\n",
       "      <td>0</td>\n",
       "    </tr>\n",
       "    <tr>\n",
       "      <th>1</th>\n",
       "      <td>0</td>\n",
       "      <td>0</td>\n",
       "      <td>0</td>\n",
       "      <td>0</td>\n",
       "      <td>0</td>\n",
       "      <td>0</td>\n",
       "      <td>0</td>\n",
       "      <td>0</td>\n",
       "      <td>0</td>\n",
       "      <td>0</td>\n",
       "      <td>...</td>\n",
       "      <td>0</td>\n",
       "      <td>0</td>\n",
       "      <td>1</td>\n",
       "      <td>0</td>\n",
       "      <td>0</td>\n",
       "      <td>0</td>\n",
       "      <td>0</td>\n",
       "      <td>0</td>\n",
       "      <td>0</td>\n",
       "      <td>0</td>\n",
       "    </tr>\n",
       "    <tr>\n",
       "      <th>2</th>\n",
       "      <td>0</td>\n",
       "      <td>0</td>\n",
       "      <td>0</td>\n",
       "      <td>0</td>\n",
       "      <td>0</td>\n",
       "      <td>0</td>\n",
       "      <td>0</td>\n",
       "      <td>0</td>\n",
       "      <td>0</td>\n",
       "      <td>0</td>\n",
       "      <td>...</td>\n",
       "      <td>0</td>\n",
       "      <td>0</td>\n",
       "      <td>1</td>\n",
       "      <td>0</td>\n",
       "      <td>0</td>\n",
       "      <td>0</td>\n",
       "      <td>0</td>\n",
       "      <td>0</td>\n",
       "      <td>0</td>\n",
       "      <td>0</td>\n",
       "    </tr>\n",
       "    <tr>\n",
       "      <th>3</th>\n",
       "      <td>0</td>\n",
       "      <td>0</td>\n",
       "      <td>0</td>\n",
       "      <td>0</td>\n",
       "      <td>0</td>\n",
       "      <td>0</td>\n",
       "      <td>0</td>\n",
       "      <td>0</td>\n",
       "      <td>0</td>\n",
       "      <td>0</td>\n",
       "      <td>...</td>\n",
       "      <td>0</td>\n",
       "      <td>0</td>\n",
       "      <td>1</td>\n",
       "      <td>0</td>\n",
       "      <td>0</td>\n",
       "      <td>0</td>\n",
       "      <td>0</td>\n",
       "      <td>0</td>\n",
       "      <td>0</td>\n",
       "      <td>0</td>\n",
       "    </tr>\n",
       "    <tr>\n",
       "      <th>4</th>\n",
       "      <td>0</td>\n",
       "      <td>0</td>\n",
       "      <td>0</td>\n",
       "      <td>0</td>\n",
       "      <td>0</td>\n",
       "      <td>0</td>\n",
       "      <td>0</td>\n",
       "      <td>0</td>\n",
       "      <td>0</td>\n",
       "      <td>0</td>\n",
       "      <td>...</td>\n",
       "      <td>0</td>\n",
       "      <td>0</td>\n",
       "      <td>1</td>\n",
       "      <td>0</td>\n",
       "      <td>0</td>\n",
       "      <td>0</td>\n",
       "      <td>0</td>\n",
       "      <td>0</td>\n",
       "      <td>0</td>\n",
       "      <td>0</td>\n",
       "    </tr>\n",
       "    <tr>\n",
       "      <th>...</th>\n",
       "      <td>...</td>\n",
       "      <td>...</td>\n",
       "      <td>...</td>\n",
       "      <td>...</td>\n",
       "      <td>...</td>\n",
       "      <td>...</td>\n",
       "      <td>...</td>\n",
       "      <td>...</td>\n",
       "      <td>...</td>\n",
       "      <td>...</td>\n",
       "      <td>...</td>\n",
       "      <td>...</td>\n",
       "      <td>...</td>\n",
       "      <td>...</td>\n",
       "      <td>...</td>\n",
       "      <td>...</td>\n",
       "      <td>...</td>\n",
       "      <td>...</td>\n",
       "      <td>...</td>\n",
       "      <td>...</td>\n",
       "      <td>...</td>\n",
       "    </tr>\n",
       "    <tr>\n",
       "      <th>1790</th>\n",
       "      <td>0</td>\n",
       "      <td>0</td>\n",
       "      <td>0</td>\n",
       "      <td>0</td>\n",
       "      <td>0</td>\n",
       "      <td>0</td>\n",
       "      <td>0</td>\n",
       "      <td>0</td>\n",
       "      <td>0</td>\n",
       "      <td>0</td>\n",
       "      <td>...</td>\n",
       "      <td>0</td>\n",
       "      <td>0</td>\n",
       "      <td>1</td>\n",
       "      <td>0</td>\n",
       "      <td>0</td>\n",
       "      <td>0</td>\n",
       "      <td>0</td>\n",
       "      <td>0</td>\n",
       "      <td>0</td>\n",
       "      <td>0</td>\n",
       "    </tr>\n",
       "    <tr>\n",
       "      <th>1791</th>\n",
       "      <td>0</td>\n",
       "      <td>0</td>\n",
       "      <td>0</td>\n",
       "      <td>0</td>\n",
       "      <td>0</td>\n",
       "      <td>0</td>\n",
       "      <td>0</td>\n",
       "      <td>0</td>\n",
       "      <td>0</td>\n",
       "      <td>0</td>\n",
       "      <td>...</td>\n",
       "      <td>0</td>\n",
       "      <td>0</td>\n",
       "      <td>0</td>\n",
       "      <td>0</td>\n",
       "      <td>0</td>\n",
       "      <td>0</td>\n",
       "      <td>0</td>\n",
       "      <td>0</td>\n",
       "      <td>0</td>\n",
       "      <td>0</td>\n",
       "    </tr>\n",
       "    <tr>\n",
       "      <th>1792</th>\n",
       "      <td>0</td>\n",
       "      <td>0</td>\n",
       "      <td>0</td>\n",
       "      <td>0</td>\n",
       "      <td>0</td>\n",
       "      <td>0</td>\n",
       "      <td>0</td>\n",
       "      <td>0</td>\n",
       "      <td>0</td>\n",
       "      <td>0</td>\n",
       "      <td>...</td>\n",
       "      <td>0</td>\n",
       "      <td>0</td>\n",
       "      <td>0</td>\n",
       "      <td>0</td>\n",
       "      <td>0</td>\n",
       "      <td>0</td>\n",
       "      <td>0</td>\n",
       "      <td>0</td>\n",
       "      <td>0</td>\n",
       "      <td>0</td>\n",
       "    </tr>\n",
       "    <tr>\n",
       "      <th>1793</th>\n",
       "      <td>0</td>\n",
       "      <td>0</td>\n",
       "      <td>0</td>\n",
       "      <td>0</td>\n",
       "      <td>0</td>\n",
       "      <td>0</td>\n",
       "      <td>0</td>\n",
       "      <td>0</td>\n",
       "      <td>0</td>\n",
       "      <td>0</td>\n",
       "      <td>...</td>\n",
       "      <td>0</td>\n",
       "      <td>0</td>\n",
       "      <td>1</td>\n",
       "      <td>0</td>\n",
       "      <td>0</td>\n",
       "      <td>0</td>\n",
       "      <td>0</td>\n",
       "      <td>0</td>\n",
       "      <td>0</td>\n",
       "      <td>0</td>\n",
       "    </tr>\n",
       "    <tr>\n",
       "      <th>1794</th>\n",
       "      <td>0</td>\n",
       "      <td>0</td>\n",
       "      <td>0</td>\n",
       "      <td>0</td>\n",
       "      <td>0</td>\n",
       "      <td>0</td>\n",
       "      <td>0</td>\n",
       "      <td>0</td>\n",
       "      <td>0</td>\n",
       "      <td>0</td>\n",
       "      <td>...</td>\n",
       "      <td>0</td>\n",
       "      <td>0</td>\n",
       "      <td>1</td>\n",
       "      <td>0</td>\n",
       "      <td>0</td>\n",
       "      <td>0</td>\n",
       "      <td>0</td>\n",
       "      <td>0</td>\n",
       "      <td>0</td>\n",
       "      <td>0</td>\n",
       "    </tr>\n",
       "  </tbody>\n",
       "</table>\n",
       "<p>1795 rows × 40 columns</p>\n",
       "</div>"
      ],
      "text/plain": [
       "      Amazon  Amazon mix  Amazon, ICS  Beniano  Blend  \\\n",
       "0          0           0            0        0      0   \n",
       "1          0           0            0        0      0   \n",
       "2          0           0            0        0      0   \n",
       "3          0           0            0        0      0   \n",
       "4          0           0            0        0      0   \n",
       "...      ...         ...          ...      ...    ...   \n",
       "1790       0           0            0        0      0   \n",
       "1791       0           0            0        0      0   \n",
       "1792       0           0            0        0      0   \n",
       "1793       0           0            0        0      0   \n",
       "1794       0           0            0        0      0   \n",
       "\n",
       "      Blend-Forastero,Criollo  CCN51  Criollo  Criollo (Amarru)  \\\n",
       "0                           0      0        0                 0   \n",
       "1                           0      0        0                 0   \n",
       "2                           0      0        0                 0   \n",
       "3                           0      0        0                 0   \n",
       "4                           0      0        0                 0   \n",
       "...                       ...    ...      ...               ...   \n",
       "1790                        0      0        0                 0   \n",
       "1791                        0      0        0                 0   \n",
       "1792                        0      0        0                 0   \n",
       "1793                        0      0        0                 0   \n",
       "1794                        0      0        0                 0   \n",
       "\n",
       "      Criollo (Ocumare 61)  ...  Nacional  Nacional (Arriba)  Trinitario  \\\n",
       "0                        0  ...         0                  0           1   \n",
       "1                        0  ...         0                  0           1   \n",
       "2                        0  ...         0                  0           1   \n",
       "3                        0  ...         0                  0           1   \n",
       "4                        0  ...         0                  0           1   \n",
       "...                    ...  ...       ...                ...         ...   \n",
       "1790                     0  ...         0                  0           1   \n",
       "1791                     0  ...         0                  0           0   \n",
       "1792                     0  ...         0                  0           0   \n",
       "1793                     0  ...         0                  0           1   \n",
       "1794                     0  ...         0                  0           1   \n",
       "\n",
       "      Trinitario (85% Criollo)  Trinitario (Amelonado)  Trinitario (Scavina)  \\\n",
       "0                            0                       0                     0   \n",
       "1                            0                       0                     0   \n",
       "2                            0                       0                     0   \n",
       "3                            0                       0                     0   \n",
       "4                            0                       0                     0   \n",
       "...                        ...                     ...                   ...   \n",
       "1790                         0                       0                     0   \n",
       "1791                         0                       0                     0   \n",
       "1792                         0                       0                     0   \n",
       "1793                         0                       0                     0   \n",
       "1794                         0                       0                     0   \n",
       "\n",
       "      Trinitario, Criollo  Trinitario, Forastero  Trinitario, Nacional  \\\n",
       "0                       0                      0                     0   \n",
       "1                       0                      0                     0   \n",
       "2                       0                      0                     0   \n",
       "3                       0                      0                     0   \n",
       "4                       0                      0                     0   \n",
       "...                   ...                    ...                   ...   \n",
       "1790                    0                      0                     0   \n",
       "1791                    0                      0                     0   \n",
       "1792                    0                      0                     0   \n",
       "1793                    0                      0                     0   \n",
       "1794                    0                      0                     0   \n",
       "\n",
       "      Trinitario, TCGA  \n",
       "0                    0  \n",
       "1                    0  \n",
       "2                    0  \n",
       "3                    0  \n",
       "4                    0  \n",
       "...                ...  \n",
       "1790                 0  \n",
       "1791                 0  \n",
       "1792                 0  \n",
       "1793                 0  \n",
       "1794                 0  \n",
       "\n",
       "[1795 rows x 40 columns]"
      ]
     },
     "execution_count": 52,
     "metadata": {},
     "output_type": "execute_result"
    }
   ],
   "source": [
    "pd.get_dummies(df['bean_type'])"
   ]
  },
  {
   "cell_type": "code",
   "execution_count": null,
   "metadata": {},
   "outputs": [],
   "source": []
  }
 ],
 "metadata": {
  "colab": {
   "collapsed_sections": [],
   "name": "Solutions - EDA_Chocolate_Bar_Ratings_Template.ipynb",
   "provenance": []
  },
  "kernelspec": {
   "display_name": "Python 3",
   "language": "python",
   "name": "python3"
  },
  "language_info": {
   "codemirror_mode": {
    "name": "ipython",
    "version": 3
   },
   "file_extension": ".py",
   "mimetype": "text/x-python",
   "name": "python",
   "nbconvert_exporter": "python",
   "pygments_lexer": "ipython3",
   "version": "3.8.8"
  }
 },
 "nbformat": 4,
 "nbformat_minor": 1
}
