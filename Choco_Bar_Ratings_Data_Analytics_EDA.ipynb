{
  "nbformat": 4,
  "nbformat_minor": 0,
  "metadata": {
    "colab": {
      "name": "Data Analytics - EDA.ipynb",
      "provenance": [],
      "mount_file_id": "1CBSxejaMRpOtLajjZjcu5UwJaSNhKwtV",
      "authorship_tag": "ABX9TyMpDHTIZhb+FL7vW0rX/o/H",
      "include_colab_link": true
    },
    "kernelspec": {
      "name": "python3",
      "display_name": "Python 3"
    },
    "language_info": {
      "name": "python"
    }
  },
  "cells": [
    {
      "cell_type": "markdown",
      "metadata": {
        "id": "view-in-github",
        "colab_type": "text"
      },
      "source": [
        "<a href=\"https://colab.research.google.com/github/ameer-fice/Innovation-Camp---DA/blob/main/Choco_Bar_Ratings_Data_Analytics_EDA.ipynb\" target=\"_parent\"><img src=\"https://colab.research.google.com/assets/colab-badge.svg\" alt=\"Open In Colab\"/></a>"
      ]
    },
    {
      "cell_type": "markdown",
      "metadata": {
        "id": "XCgh-4MAzHS2"
      },
      "source": [
        "# **1. Load the dataset and display top 2 values**"
      ]
    },
    {
      "cell_type": "code",
      "metadata": {
        "id": "33YD05MEDh-R",
        "colab": {
          "base_uri": "https://localhost:8080/",
          "height": 111
        },
        "outputId": "a96497f4-33bf-4b8a-eb16-0bbb49e2e720"
      },
      "source": [
        "import pandas as pd\n",
        "df = pd.read_csv('flavors.csv')\n",
        "df.head(2)\n",
        "\n",
        "# csv - comma separated values"
      ],
      "execution_count": 1,
      "outputs": [
        {
          "output_type": "execute_result",
          "data": {
            "text/html": [
              "<div>\n",
              "<style scoped>\n",
              "    .dataframe tbody tr th:only-of-type {\n",
              "        vertical-align: middle;\n",
              "    }\n",
              "\n",
              "    .dataframe tbody tr th {\n",
              "        vertical-align: top;\n",
              "    }\n",
              "\n",
              "    .dataframe thead th {\n",
              "        text-align: right;\n",
              "    }\n",
              "</style>\n",
              "<table border=\"1\" class=\"dataframe\">\n",
              "  <thead>\n",
              "    <tr style=\"text-align: right;\">\n",
              "      <th></th>\n",
              "      <th>Company \\n(Maker-if known)</th>\n",
              "      <th>Specific Bean Origin\\nor Bar Name</th>\n",
              "      <th>REF</th>\n",
              "      <th>Review\\nDate</th>\n",
              "      <th>Cocoa\\nPercent</th>\n",
              "      <th>Company\\nLocation</th>\n",
              "      <th>Rating</th>\n",
              "      <th>Bean\\nType</th>\n",
              "      <th>Broad Bean\\nOrigin</th>\n",
              "    </tr>\n",
              "  </thead>\n",
              "  <tbody>\n",
              "    <tr>\n",
              "      <th>0</th>\n",
              "      <td>A. Morin</td>\n",
              "      <td>Agua Grande</td>\n",
              "      <td>1876</td>\n",
              "      <td>2016</td>\n",
              "      <td>63%</td>\n",
              "      <td>France</td>\n",
              "      <td>3.75</td>\n",
              "      <td></td>\n",
              "      <td>Sao Tome</td>\n",
              "    </tr>\n",
              "    <tr>\n",
              "      <th>1</th>\n",
              "      <td>A. Morin</td>\n",
              "      <td>Kpime</td>\n",
              "      <td>1676</td>\n",
              "      <td>2015</td>\n",
              "      <td>70%</td>\n",
              "      <td>France</td>\n",
              "      <td>2.75</td>\n",
              "      <td></td>\n",
              "      <td>Togo</td>\n",
              "    </tr>\n",
              "  </tbody>\n",
              "</table>\n",
              "</div>"
            ],
            "text/plain": [
              "  Company \\n(Maker-if known)  ... Broad Bean\\nOrigin\n",
              "0                   A. Morin  ...           Sao Tome\n",
              "1                   A. Morin  ...               Togo\n",
              "\n",
              "[2 rows x 9 columns]"
            ]
          },
          "metadata": {},
          "execution_count": 1
        }
      ]
    },
    {
      "cell_type": "markdown",
      "metadata": {
        "id": "jwYH_tUH1saK"
      },
      "source": [
        "# **2. Remove unwanted characters in the column names and keep all the letters in lowercase**"
      ]
    },
    {
      "cell_type": "code",
      "metadata": {
        "id": "5oIlNfyhC-bk",
        "colab": {
          "base_uri": "https://localhost:8080/"
        },
        "outputId": "80630c4c-aa6f-40c1-db81-8a8fdeb850a9"
      },
      "source": [
        "df.columns = df.columns.str.replace('\\n','_')\n",
        "df.columns = df.columns.str.lower()\n",
        "df.columns"
      ],
      "execution_count": 2,
      "outputs": [
        {
          "output_type": "execute_result",
          "data": {
            "text/plain": [
              "Index(['company _(maker-if known)', 'specific bean origin_or bar name', 'ref',\n",
              "       'review_date', 'cocoa_percent', 'company_location', 'rating',\n",
              "       'bean_type', 'broad bean_origin'],\n",
              "      dtype='object')"
            ]
          },
          "metadata": {},
          "execution_count": 2
        }
      ]
    },
    {
      "cell_type": "code",
      "metadata": {
        "colab": {
          "base_uri": "https://localhost:8080/",
          "height": 35
        },
        "id": "V9iM2WqRZN1p",
        "outputId": "96041449-6c5e-4b6d-835c-dcbd25ff5a02"
      },
      "source": [
        "df.columns[-1]"
      ],
      "execution_count": 3,
      "outputs": [
        {
          "output_type": "execute_result",
          "data": {
            "application/vnd.google.colaboratory.intrinsic+json": {
              "type": "string"
            },
            "text/plain": [
              "'broad bean_origin'"
            ]
          },
          "metadata": {},
          "execution_count": 3
        }
      ]
    },
    {
      "cell_type": "code",
      "metadata": {
        "colab": {
          "base_uri": "https://localhost:8080/",
          "height": 204
        },
        "id": "GOQO-qlQY5m2",
        "outputId": "295a74b3-3b67-44b7-ee8a-e2fbb351bccd"
      },
      "source": [
        "df = df.rename(columns={df.columns[0]:'company',\n",
        "          df.columns[1]:'bean_origin',\n",
        "          df.columns[-1]:'broad_bean_origin'})\n",
        "df.head()"
      ],
      "execution_count": 4,
      "outputs": [
        {
          "output_type": "execute_result",
          "data": {
            "text/html": [
              "<div>\n",
              "<style scoped>\n",
              "    .dataframe tbody tr th:only-of-type {\n",
              "        vertical-align: middle;\n",
              "    }\n",
              "\n",
              "    .dataframe tbody tr th {\n",
              "        vertical-align: top;\n",
              "    }\n",
              "\n",
              "    .dataframe thead th {\n",
              "        text-align: right;\n",
              "    }\n",
              "</style>\n",
              "<table border=\"1\" class=\"dataframe\">\n",
              "  <thead>\n",
              "    <tr style=\"text-align: right;\">\n",
              "      <th></th>\n",
              "      <th>company</th>\n",
              "      <th>bean_origin</th>\n",
              "      <th>ref</th>\n",
              "      <th>review_date</th>\n",
              "      <th>cocoa_percent</th>\n",
              "      <th>company_location</th>\n",
              "      <th>rating</th>\n",
              "      <th>bean_type</th>\n",
              "      <th>broad_bean_origin</th>\n",
              "    </tr>\n",
              "  </thead>\n",
              "  <tbody>\n",
              "    <tr>\n",
              "      <th>0</th>\n",
              "      <td>A. Morin</td>\n",
              "      <td>Agua Grande</td>\n",
              "      <td>1876</td>\n",
              "      <td>2016</td>\n",
              "      <td>63%</td>\n",
              "      <td>France</td>\n",
              "      <td>3.75</td>\n",
              "      <td></td>\n",
              "      <td>Sao Tome</td>\n",
              "    </tr>\n",
              "    <tr>\n",
              "      <th>1</th>\n",
              "      <td>A. Morin</td>\n",
              "      <td>Kpime</td>\n",
              "      <td>1676</td>\n",
              "      <td>2015</td>\n",
              "      <td>70%</td>\n",
              "      <td>France</td>\n",
              "      <td>2.75</td>\n",
              "      <td></td>\n",
              "      <td>Togo</td>\n",
              "    </tr>\n",
              "    <tr>\n",
              "      <th>2</th>\n",
              "      <td>A. Morin</td>\n",
              "      <td>Atsane</td>\n",
              "      <td>1676</td>\n",
              "      <td>2015</td>\n",
              "      <td>70%</td>\n",
              "      <td>France</td>\n",
              "      <td>3.00</td>\n",
              "      <td></td>\n",
              "      <td>Togo</td>\n",
              "    </tr>\n",
              "    <tr>\n",
              "      <th>3</th>\n",
              "      <td>A. Morin</td>\n",
              "      <td>Akata</td>\n",
              "      <td>1680</td>\n",
              "      <td>2015</td>\n",
              "      <td>70%</td>\n",
              "      <td>France</td>\n",
              "      <td>3.50</td>\n",
              "      <td></td>\n",
              "      <td>Togo</td>\n",
              "    </tr>\n",
              "    <tr>\n",
              "      <th>4</th>\n",
              "      <td>A. Morin</td>\n",
              "      <td>Quilla</td>\n",
              "      <td>1704</td>\n",
              "      <td>2015</td>\n",
              "      <td>70%</td>\n",
              "      <td>France</td>\n",
              "      <td>3.50</td>\n",
              "      <td></td>\n",
              "      <td>Peru</td>\n",
              "    </tr>\n",
              "  </tbody>\n",
              "</table>\n",
              "</div>"
            ],
            "text/plain": [
              "    company  bean_origin   ref  ...  rating bean_type broad_bean_origin\n",
              "0  A. Morin  Agua Grande  1876  ...    3.75                    Sao Tome\n",
              "1  A. Morin        Kpime  1676  ...    2.75                        Togo\n",
              "2  A. Morin       Atsane  1676  ...    3.00                        Togo\n",
              "3  A. Morin        Akata  1680  ...    3.50                        Togo\n",
              "4  A. Morin       Quilla  1704  ...    3.50                        Peru\n",
              "\n",
              "[5 rows x 9 columns]"
            ]
          },
          "metadata": {},
          "execution_count": 4
        }
      ]
    },
    {
      "cell_type": "markdown",
      "metadata": {
        "id": "VKWJSLfhMv5B"
      },
      "source": [
        "## **3. Which rating is the most popular for chocolates?**"
      ]
    },
    {
      "cell_type": "code",
      "metadata": {
        "colab": {
          "base_uri": "https://localhost:8080/"
        },
        "id": "yTQ6cld_getI",
        "outputId": "97077b89-8b23-420e-c51b-fe8b6ac20225"
      },
      "source": [
        "# Method 2\n",
        "r = df['rating'].value_counts().sort_index(ascending=True)\n",
        "r"
      ],
      "execution_count": 5,
      "outputs": [
        {
          "output_type": "execute_result",
          "data": {
            "text/plain": [
              "1.00      4\n",
              "1.50     10\n",
              "1.75      3\n",
              "2.00     32\n",
              "2.25     14\n",
              "2.50    127\n",
              "2.75    259\n",
              "3.00    341\n",
              "3.25    303\n",
              "3.50    392\n",
              "3.75    210\n",
              "4.00     98\n",
              "5.00      2\n",
              "Name: rating, dtype: int64"
            ]
          },
          "metadata": {},
          "execution_count": 5
        }
      ]
    },
    {
      "cell_type": "code",
      "metadata": {
        "colab": {
          "base_uri": "https://localhost:8080/",
          "height": 295
        },
        "id": "-6N_roQjhraF",
        "outputId": "656fffb8-33e0-4308-d44b-ca1a720a60ec"
      },
      "source": [
        "import matplotlib.pyplot as plt\n",
        "plt.bar(r.index.astype(str),r,color=['r','g'])\n",
        "plt.xlabel('Rating')\n",
        "plt.ylabel('Count')\n",
        "plt.title('Bar Graph')\n",
        "plt.show()"
      ],
      "execution_count": 6,
      "outputs": [
        {
          "output_type": "display_data",
          "data": {
            "image/png": "[encoded data removed]",
            "text/plain": [
              "<Figure size 432x288 with 1 Axes>"
            ]
          },
          "metadata": {
            "needs_background": "light"
          }
        }
      ]
    },
    {
      "cell_type": "code",
      "metadata": {
        "colab": {
          "base_uri": "https://localhost:8080/",
          "height": 297
        },
        "id": "kc5gTjAlvreG",
        "outputId": "b6206977-2a3d-4035-9e17-94a6ba24392e"
      },
      "source": [
        "import seaborn as sns\n",
        "sns.kdeplot(df['rating'])"
      ],
      "execution_count": 7,
      "outputs": [
        {
          "output_type": "execute_result",
          "data": {
            "text/plain": [
              "<matplotlib.axes._subplots.AxesSubplot at 0x7f3cbd748310>"
            ]
          },
          "metadata": {},
          "execution_count": 7
        },
        {
          "output_type": "display_data",
          "data": {
            "image/png": "[encoded data removed]",
            "text/plain": [
              "<Figure size 432x288 with 1 Axes>"
            ]
          },
          "metadata": {
            "needs_background": "light"
          }
        }
      ]
    },
    {
      "cell_type": "markdown",
      "metadata": {
        "id": "n4rO_1lg7D2Y"
      },
      "source": [
        "# **4. Checking for missing values**"
      ]
    },
    {
      "cell_type": "code",
      "metadata": {
        "colab": {
          "base_uri": "https://localhost:8080/"
        },
        "id": "ocB97-eKk0zP",
        "outputId": "c25cb1fb-8839-48e3-aa1c-afad07eb1055"
      },
      "source": [
        "df.isnull().sum()"
      ],
      "execution_count": 8,
      "outputs": [
        {
          "output_type": "execute_result",
          "data": {
            "text/plain": [
              "company              0\n",
              "bean_origin          0\n",
              "ref                  0\n",
              "review_date          0\n",
              "cocoa_percent        0\n",
              "company_location     0\n",
              "rating               0\n",
              "bean_type            1\n",
              "broad_bean_origin    1\n",
              "dtype: int64"
            ]
          },
          "metadata": {},
          "execution_count": 8
        }
      ]
    },
    {
      "cell_type": "code",
      "metadata": {
        "colab": {
          "base_uri": "https://localhost:8080/",
          "height": 419
        },
        "id": "GEF0C5hAlWp0",
        "outputId": "618f346a-b88e-4a91-f7f1-aa2c491254cd"
      },
      "source": [
        "# Check for np.where and use it with isnull()\n",
        "df[['bean_type']]"
      ],
      "execution_count": 9,
      "outputs": [
        {
          "output_type": "execute_result",
          "data": {
            "text/html": [
              "<div>\n",
              "<style scoped>\n",
              "    .dataframe tbody tr th:only-of-type {\n",
              "        vertical-align: middle;\n",
              "    }\n",
              "\n",
              "    .dataframe tbody tr th {\n",
              "        vertical-align: top;\n",
              "    }\n",
              "\n",
              "    .dataframe thead th {\n",
              "        text-align: right;\n",
              "    }\n",
              "</style>\n",
              "<table border=\"1\" class=\"dataframe\">\n",
              "  <thead>\n",
              "    <tr style=\"text-align: right;\">\n",
              "      <th></th>\n",
              "      <th>bean_type</th>\n",
              "    </tr>\n",
              "  </thead>\n",
              "  <tbody>\n",
              "    <tr>\n",
              "      <th>0</th>\n",
              "      <td></td>\n",
              "    </tr>\n",
              "    <tr>\n",
              "      <th>1</th>\n",
              "      <td></td>\n",
              "    </tr>\n",
              "    <tr>\n",
              "      <th>2</th>\n",
              "      <td></td>\n",
              "    </tr>\n",
              "    <tr>\n",
              "      <th>3</th>\n",
              "      <td></td>\n",
              "    </tr>\n",
              "    <tr>\n",
              "      <th>4</th>\n",
              "      <td></td>\n",
              "    </tr>\n",
              "    <tr>\n",
              "      <th>...</th>\n",
              "      <td>...</td>\n",
              "    </tr>\n",
              "    <tr>\n",
              "      <th>1790</th>\n",
              "      <td></td>\n",
              "    </tr>\n",
              "    <tr>\n",
              "      <th>1791</th>\n",
              "      <td>Forastero</td>\n",
              "    </tr>\n",
              "    <tr>\n",
              "      <th>1792</th>\n",
              "      <td>Forastero</td>\n",
              "    </tr>\n",
              "    <tr>\n",
              "      <th>1793</th>\n",
              "      <td></td>\n",
              "    </tr>\n",
              "    <tr>\n",
              "      <th>1794</th>\n",
              "      <td></td>\n",
              "    </tr>\n",
              "  </tbody>\n",
              "</table>\n",
              "<p>1795 rows × 1 columns</p>\n",
              "</div>"
            ],
            "text/plain": [
              "      bean_type\n",
              "0              \n",
              "1              \n",
              "2              \n",
              "3              \n",
              "4              \n",
              "...         ...\n",
              "1790           \n",
              "1791  Forastero\n",
              "1792  Forastero\n",
              "1793           \n",
              "1794           \n",
              "\n",
              "[1795 rows x 1 columns]"
            ]
          },
          "metadata": {},
          "execution_count": 9
        }
      ]
    },
    {
      "cell_type": "code",
      "metadata": {
        "colab": {
          "base_uri": "https://localhost:8080/"
        },
        "id": "Fz2Zf5b0lyXC",
        "outputId": "84e025b8-a235-4334-c450-30e6af6e4c7c"
      },
      "source": [
        "df['bean_type'].unique()\n",
        "# \\xa0 is actually non-breaking space in Latin1 (ISO 8859-1)"
      ],
      "execution_count": 10,
      "outputs": [
        {
          "output_type": "execute_result",
          "data": {
            "text/plain": [
              "array(['\\xa0', 'Criollo', 'Trinitario', 'Forastero (Arriba)', 'Forastero',\n",
              "       'Forastero (Nacional)', 'Criollo, Trinitario',\n",
              "       'Criollo (Porcelana)', 'Blend', 'Trinitario (85% Criollo)',\n",
              "       'Forastero (Catongo)', 'Forastero (Parazinho)',\n",
              "       'Trinitario, Criollo', 'CCN51', 'Criollo (Ocumare)', 'Nacional',\n",
              "       'Criollo (Ocumare 61)', 'Criollo (Ocumare 77)',\n",
              "       'Criollo (Ocumare 67)', 'Criollo (Wild)', 'Beniano', 'Amazon mix',\n",
              "       'Trinitario, Forastero', 'Forastero (Arriba) ASS', 'Criollo, +',\n",
              "       'Amazon', 'Amazon, ICS', 'EET', 'Blend-Forastero,Criollo',\n",
              "       'Trinitario (Scavina)', 'Criollo, Forastero', 'Matina',\n",
              "       'Forastero(Arriba, CCN)', 'Nacional (Arriba)',\n",
              "       'Forastero (Arriba) ASSS', 'Forastero, Trinitario',\n",
              "       'Forastero (Amelonado)', nan, 'Trinitario, Nacional',\n",
              "       'Trinitario (Amelonado)', 'Trinitario, TCGA', 'Criollo (Amarru)'],\n",
              "      dtype=object)"
            ]
          },
          "metadata": {},
          "execution_count": 10
        }
      ]
    },
    {
      "cell_type": "code",
      "metadata": {
        "colab": {
          "base_uri": "https://localhost:8080/"
        },
        "id": "6qtIZWfEmMdg",
        "outputId": "85cd95c6-a759-48fb-fc3f-3a862423cc7b"
      },
      "source": [
        "df['bean_type'].value_counts()\n",
        "\n",
        "# Replace the space with missing value and change it with mode"
      ],
      "execution_count": 11,
      "outputs": [
        {
          "output_type": "execute_result",
          "data": {
            "text/plain": [
              "                            887\n",
              "Trinitario                  419\n",
              "Criollo                     153\n",
              "Forastero                    87\n",
              "Forastero (Nacional)         52\n",
              "Blend                        41\n",
              "Criollo, Trinitario          39\n",
              "Forastero (Arriba)           37\n",
              "Criollo (Porcelana)          10\n",
              "Trinitario, Criollo           9\n",
              "Forastero (Parazinho)         8\n",
              "Forastero (Arriba) ASS        6\n",
              "EET                           3\n",
              "Beniano                       3\n",
              "Matina                        3\n",
              "Nacional (Arriba)             3\n",
              "Amazon mix                    2\n",
              "Forastero (Catongo)           2\n",
              "Criollo, Forastero            2\n",
              "Trinitario (85% Criollo)      2\n",
              "Trinitario, Forastero         2\n",
              "Criollo (Amarru)              2\n",
              "Nacional                      2\n",
              "Amazon, ICS                   2\n",
              "Criollo (Ocumare 61)          2\n",
              "Forastero (Amelonado)         1\n",
              "Criollo (Wild)                1\n",
              "Trinitario, TCGA              1\n",
              "Forastero(Arriba, CCN)        1\n",
              "Criollo, +                    1\n",
              "Criollo (Ocumare 77)          1\n",
              "Forastero (Arriba) ASSS       1\n",
              "Criollo (Ocumare)             1\n",
              "Trinitario (Scavina)          1\n",
              "Criollo (Ocumare 67)          1\n",
              "CCN51                         1\n",
              "Trinitario (Amelonado)        1\n",
              "Amazon                        1\n",
              "Trinitario, Nacional          1\n",
              "Forastero, Trinitario         1\n",
              "Blend-Forastero,Criollo       1\n",
              "Name: bean_type, dtype: int64"
            ]
          },
          "metadata": {},
          "execution_count": 11
        }
      ]
    },
    {
      "cell_type": "code",
      "metadata": {
        "colab": {
          "base_uri": "https://localhost:8080/"
        },
        "id": "VJ1Wd-Ppmk2v",
        "outputId": "e20ca08d-f39d-400f-bf52-4c7d90fe303e"
      },
      "source": [
        "df['bean_type'] = df['bean_type'].replace({'\\xa0':None})\n",
        "df['bean_type'] = df['bean_type'].fillna(df['bean_type'].mode()[0])\n",
        "df['bean_type']\n",
        "\n",
        "# https://stackoverflow.com/questions/38117016/update-pandas-dataframe-with-str-replace-vs-replace"
      ],
      "execution_count": 12,
      "outputs": [
        {
          "output_type": "execute_result",
          "data": {
            "text/plain": [
              "0       Trinitario\n",
              "1       Trinitario\n",
              "2       Trinitario\n",
              "3       Trinitario\n",
              "4       Trinitario\n",
              "           ...    \n",
              "1790    Trinitario\n",
              "1791     Forastero\n",
              "1792     Forastero\n",
              "1793    Trinitario\n",
              "1794    Trinitario\n",
              "Name: bean_type, Length: 1795, dtype: object"
            ]
          },
          "metadata": {},
          "execution_count": 12
        }
      ]
    },
    {
      "cell_type": "code",
      "metadata": {
        "colab": {
          "base_uri": "https://localhost:8080/"
        },
        "id": "etypmJocnnXJ",
        "outputId": "e8d36fd4-8a73-48da-e998-5b1b6beff115"
      },
      "source": [
        "df['bean_type'].mode()"
      ],
      "execution_count": 13,
      "outputs": [
        {
          "output_type": "execute_result",
          "data": {
            "text/plain": [
              "0    Trinitario\n",
              "dtype: object"
            ]
          },
          "metadata": {},
          "execution_count": 13
        }
      ]
    },
    {
      "cell_type": "markdown",
      "metadata": {
        "id": "-2Er7vCN8mdt"
      },
      "source": [
        "# **5. Corrections of words in the column by removing punctuations. Plot top 5 Bean Types**"
      ]
    },
    {
      "cell_type": "code",
      "metadata": {
        "colab": {
          "base_uri": "https://localhost:8080/"
        },
        "id": "kTDbf-fRo3sJ",
        "outputId": "4ae6b6da-87e7-40a1-9491-8b588fad74d4"
      },
      "source": [
        "b = df['bean_type'].value_counts().head()\n",
        "b"
      ],
      "execution_count": 14,
      "outputs": [
        {
          "output_type": "execute_result",
          "data": {
            "text/plain": [
              "Trinitario              1307\n",
              "Criollo                  153\n",
              "Forastero                 87\n",
              "Forastero (Nacional)      52\n",
              "Blend                     41\n",
              "Name: bean_type, dtype: int64"
            ]
          },
          "metadata": {},
          "execution_count": 14
        }
      ]
    },
    {
      "cell_type": "code",
      "metadata": {
        "colab": {
          "base_uri": "https://localhost:8080/",
          "height": 398
        },
        "id": "ue1bLAFNo7IQ",
        "outputId": "069207d1-e123-4623-b49f-b703c5e0a19f"
      },
      "source": [
        "# Pandas Plotting\n",
        "\n",
        "b.plot(kind='bar',figsize=(10,4))\n",
        "for i in range(len(b)):\n",
        "  plt.text(i,b[i],b[i],fontsize=15,ha='center')\n",
        "plt.xlabel('Cocao Bean Type',fontsize=20)\n",
        "plt.ylabel('Count')"
      ],
      "execution_count": 15,
      "outputs": [
        {
          "output_type": "execute_result",
          "data": {
            "text/plain": [
              "Text(0, 0.5, 'Count')"
            ]
          },
          "metadata": {},
          "execution_count": 15
        },
        {
          "output_type": "display_data",
          "data": {
            "image/png": "[encoded data removed]",
            "text/plain": [
              "<Figure size 720x288 with 1 Axes>"
            ]
          },
          "metadata": {
            "needs_background": "light"
          }
        }
      ]
    },
    {
      "cell_type": "markdown",
      "metadata": {
        "id": "PKaUgYRtBaa9"
      },
      "source": [
        "# **6. Cocoa percent over the years**"
      ]
    },
    {
      "cell_type": "code",
      "metadata": {
        "id": "ylTvRnOMC3jU",
        "colab": {
          "base_uri": "https://localhost:8080/"
        },
        "outputId": "eac5f54a-2b12-4d9c-f291-98c26a44badd"
      },
      "source": [
        "df['cocoa_percent'] = df['cocoa_percent'].str.replace('%','').astype(float)/100\n",
        "df['cocoa_percent']"
      ],
      "execution_count": 16,
      "outputs": [
        {
          "output_type": "execute_result",
          "data": {
            "text/plain": [
              "0       0.63\n",
              "1       0.70\n",
              "2       0.70\n",
              "3       0.70\n",
              "4       0.70\n",
              "        ... \n",
              "1790    0.70\n",
              "1791    0.65\n",
              "1792    0.65\n",
              "1793    0.62\n",
              "1794    0.65\n",
              "Name: cocoa_percent, Length: 1795, dtype: float64"
            ]
          },
          "metadata": {},
          "execution_count": 16
        }
      ]
    },
    {
      "cell_type": "code",
      "metadata": {
        "colab": {
          "base_uri": "https://localhost:8080/",
          "height": 265
        },
        "id": "sEu_qoQtrgQV",
        "outputId": "fdcaf4a6-4f6b-4012-c1a6-f5eea117eb1a"
      },
      "source": [
        "plt.scatter(df['rating'],df['cocoa_percent'])\n",
        "plt.show()"
      ],
      "execution_count": 17,
      "outputs": [
        {
          "output_type": "display_data",
          "data": {
            "image/png": "[encoded data removed]",
            "text/plain": [
              "<Figure size 432x288 with 1 Axes>"
            ]
          },
          "metadata": {
            "needs_background": "light"
          }
        }
      ]
    },
    {
      "cell_type": "code",
      "metadata": {
        "colab": {
          "base_uri": "https://localhost:8080/",
          "height": 265
        },
        "id": "K6ujGHWUsF-D",
        "outputId": "1ec8ee51-c3b3-47b3-a127-51771a8a244e"
      },
      "source": [
        "plt.scatter(df['review_date'],df['cocoa_percent'])\n",
        "plt.show()"
      ],
      "execution_count": 18,
      "outputs": [
        {
          "output_type": "display_data",
          "data": {
            "image/png": "[encoded data removed]",
            "text/plain": [
              "<Figure size 432x288 with 1 Axes>"
            ]
          },
          "metadata": {
            "needs_background": "light"
          }
        }
      ]
    },
    {
      "cell_type": "code",
      "metadata": {
        "colab": {
          "base_uri": "https://localhost:8080/",
          "height": 229
        },
        "id": "5ZF3IEzdsdsa",
        "outputId": "27f8f50d-fafb-43aa-f199-290e74ea5964"
      },
      "source": [
        "# 1st Method\n",
        "cocoa = df[['review_date','cocoa_percent']]\n",
        "cocoa_avg = []\n",
        "for i in range(2006,2018):\n",
        "  cocoa_avg.append(cocoa[cocoa['review_date']==i].mean()['cocoa_percent'])\n",
        "\n",
        "plt.figure(figsize=(15,3))\n",
        "plt.scatter(range(2006,2018),cocoa_avg)\n",
        "plt.plot(range(2006,2018),cocoa_avg,color='r')"
      ],
      "execution_count": 19,
      "outputs": [
        {
          "output_type": "execute_result",
          "data": {
            "text/plain": [
              "[<matplotlib.lines.Line2D at 0x7f3ccb936e50>]"
            ]
          },
          "metadata": {},
          "execution_count": 19
        },
        {
          "output_type": "display_data",
          "data": {
            "image/png": "[encoded data removed]",
            "text/plain": [
              "<Figure size 1080x216 with 1 Axes>"
            ]
          },
          "metadata": {
            "needs_background": "light"
          }
        }
      ]
    },
    {
      "cell_type": "code",
      "metadata": {
        "colab": {
          "base_uri": "https://localhost:8080/",
          "height": 244
        },
        "id": "XtQqO6iMt1sL",
        "outputId": "eff77b7a-9f49-425c-c753-5253a5510a3d"
      },
      "source": [
        "# Groupby ; Method in Pandas which creates DF/Series based on certain condition\n",
        "\n",
        "df1 = df.groupby('review_date').aggregate({'cocoa_percent':'mean'})\n",
        "df1.plot(figsize=(15,3))"
      ],
      "execution_count": 20,
      "outputs": [
        {
          "output_type": "execute_result",
          "data": {
            "text/plain": [
              "<matplotlib.axes._subplots.AxesSubplot at 0x7f3ccb936690>"
            ]
          },
          "metadata": {},
          "execution_count": 20
        },
        {
          "output_type": "display_data",
          "data": {
            "image/png": "[encoded data removed]",
            "text/plain": [
              "<Figure size 1080x216 with 1 Axes>"
            ]
          },
          "metadata": {
            "needs_background": "light"
          }
        }
      ]
    },
    {
      "cell_type": "markdown",
      "metadata": {
        "id": "5kPgbJ-mP0-b"
      },
      "source": [
        "Interestingly, In the year 2008, the cocoa percentage in chocolate was highest and the average rating happened to be the lowest.\n",
        "\n",
        "The following year in 2009, the chocolate bars saw a steep decline in cocoa percentage, with an increase in average rating. This might indicate that chocolate bar producers decreased their cocoa content to make better chocolates."
      ]
    },
    {
      "cell_type": "markdown",
      "metadata": {
        "id": "H0uemmwhB5cF"
      },
      "source": [
        "# **7. Which company is mentioned multiple times?**"
      ]
    },
    {
      "cell_type": "code",
      "metadata": {
        "id": "03vFrFCaC4tQ",
        "colab": {
          "base_uri": "https://localhost:8080/",
          "height": 204
        },
        "outputId": "f838b613-01c4-49bf-d6d6-43e4fcba751c"
      },
      "source": [
        "# Seaborn is an advanced data visualization library built on top of matplotlib\n",
        "d = df['company'].value_counts().head(5)\n",
        "d = pd.DataFrame(d)\n",
        "d = d.reset_index()\n",
        "d"
      ],
      "execution_count": 21,
      "outputs": [
        {
          "output_type": "execute_result",
          "data": {
            "text/html": [
              "<div>\n",
              "<style scoped>\n",
              "    .dataframe tbody tr th:only-of-type {\n",
              "        vertical-align: middle;\n",
              "    }\n",
              "\n",
              "    .dataframe tbody tr th {\n",
              "        vertical-align: top;\n",
              "    }\n",
              "\n",
              "    .dataframe thead th {\n",
              "        text-align: right;\n",
              "    }\n",
              "</style>\n",
              "<table border=\"1\" class=\"dataframe\">\n",
              "  <thead>\n",
              "    <tr style=\"text-align: right;\">\n",
              "      <th></th>\n",
              "      <th>index</th>\n",
              "      <th>company</th>\n",
              "    </tr>\n",
              "  </thead>\n",
              "  <tbody>\n",
              "    <tr>\n",
              "      <th>0</th>\n",
              "      <td>Soma</td>\n",
              "      <td>47</td>\n",
              "    </tr>\n",
              "    <tr>\n",
              "      <th>1</th>\n",
              "      <td>Bonnat</td>\n",
              "      <td>27</td>\n",
              "    </tr>\n",
              "    <tr>\n",
              "      <th>2</th>\n",
              "      <td>Fresco</td>\n",
              "      <td>26</td>\n",
              "    </tr>\n",
              "    <tr>\n",
              "      <th>3</th>\n",
              "      <td>Pralus</td>\n",
              "      <td>25</td>\n",
              "    </tr>\n",
              "    <tr>\n",
              "      <th>4</th>\n",
              "      <td>A. Morin</td>\n",
              "      <td>23</td>\n",
              "    </tr>\n",
              "  </tbody>\n",
              "</table>\n",
              "</div>"
            ],
            "text/plain": [
              "      index  company\n",
              "0      Soma       47\n",
              "1    Bonnat       27\n",
              "2    Fresco       26\n",
              "3    Pralus       25\n",
              "4  A. Morin       23"
            ]
          },
          "metadata": {},
          "execution_count": 21
        }
      ]
    },
    {
      "cell_type": "code",
      "metadata": {
        "colab": {
          "base_uri": "https://localhost:8080/",
          "height": 297
        },
        "id": "qnvHXC8vvRpI",
        "outputId": "6ab43e29-ae29-4e47-f949-a5e59bdcf57a"
      },
      "source": [
        "import seaborn as sns\n",
        "sns.barplot(x ='index',y='company',data=d)"
      ],
      "execution_count": 22,
      "outputs": [
        {
          "output_type": "execute_result",
          "data": {
            "text/plain": [
              "<matplotlib.axes._subplots.AxesSubplot at 0x7f3cba26e110>"
            ]
          },
          "metadata": {},
          "execution_count": 22
        },
        {
          "output_type": "display_data",
          "data": {
            "image/png": "[encoded data removed]",
            "text/plain": [
              "<Figure size 432x288 with 1 Axes>"
            ]
          },
          "metadata": {
            "needs_background": "light"
          }
        }
      ]
    },
    {
      "cell_type": "markdown",
      "metadata": {
        "id": "Vtr60PqaCAw8"
      },
      "source": [
        "# **8. Consider Ratings and divide them into different categories and plot a pie chart**"
      ]
    },
    {
      "cell_type": "code",
      "metadata": {
        "id": "Kh2TI2n8C6BM",
        "colab": {
          "base_uri": "https://localhost:8080/",
          "height": 303
        },
        "outputId": "aae57b3b-3a6c-4f45-9a66-074300001733"
      },
      "source": [
        "label = ['Disappointing','Satisfactory',' Premium and Elite']\n",
        "\n",
        "disapoint = df[df['rating']<2]\n",
        "satisfactory = df[(df['rating']>=2.0) &(df['rating']<3.0)]\n",
        "premium_elite = df[df['rating']>=3.0]\n",
        "\n",
        "x = [disapoint.shape[0],satisfactory.shape[0],premium_elite.shape[0]]\n",
        "plt.figure(figsize=(5,5))\n",
        "plt.pie(x,labels=label)\n",
        "plt.show()"
      ],
      "execution_count": 23,
      "outputs": [
        {
          "output_type": "display_data",
          "data": {
            "image/png": "[encoded data removed]",
            "text/plain": [
              "<Figure size 360x360 with 1 Axes>"
            ]
          },
          "metadata": {}
        }
      ]
    },
    {
      "cell_type": "markdown",
      "metadata": {
        "id": "sPKZQT5BCMi9"
      },
      "source": [
        "# **9. Feature Generation. We can classify the chocolates into Dark, Normal chocolates.**"
      ]
    },
    {
      "cell_type": "code",
      "metadata": {
        "id": "uDsFrvlIQW3U"
      },
      "source": [
        "df[df['cocoa_percent']<0.7].sample(10)\n",
        "df['chocolate_type'] = df['cocoa_percent'].apply(lambda x: 'dark' if x>=0.7 else 'normal')"
      ],
      "execution_count": 24,
      "outputs": []
    },
    {
      "cell_type": "code",
      "metadata": {
        "colab": {
          "base_uri": "https://localhost:8080/"
        },
        "id": "4er0VEylOUQt",
        "outputId": "fb09e990-0081-4d12-9eab-82de1ca34ac3"
      },
      "source": [
        "df['chocolate_type'].value_counts()"
      ],
      "execution_count": 25,
      "outputs": [
        {
          "output_type": "execute_result",
          "data": {
            "text/plain": [
              "dark      1467\n",
              "normal     328\n",
              "Name: chocolate_type, dtype: int64"
            ]
          },
          "metadata": {},
          "execution_count": 25
        }
      ]
    },
    {
      "cell_type": "code",
      "metadata": {
        "colab": {
          "base_uri": "https://localhost:8080/",
          "height": 307
        },
        "id": "J22SRXncO2ht",
        "outputId": "b1645d20-3130-47d7-c51e-0a38714234b2"
      },
      "source": [
        "df['chocolate_type'].value_counts().plot(kind='bar')"
      ],
      "execution_count": 26,
      "outputs": [
        {
          "output_type": "execute_result",
          "data": {
            "text/plain": [
              "<matplotlib.axes._subplots.AxesSubplot at 0x7f3ccbe3bb90>"
            ]
          },
          "metadata": {},
          "execution_count": 26
        },
        {
          "output_type": "display_data",
          "data": {
            "image/png": "[encoded data removed]",
            "text/plain": [
              "<Figure size 432x288 with 1 Axes>"
            ]
          },
          "metadata": {
            "needs_background": "light"
          }
        }
      ]
    },
    {
      "cell_type": "markdown",
      "metadata": {
        "id": "oroUno1HPOwk"
      },
      "source": [
        "We have much Dark chocolates than normal"
      ]
    },
    {
      "cell_type": "markdown",
      "metadata": {
        "id": "vKFsxxhhQFX7"
      },
      "source": [
        "## **10. Where the best cocoa beans are grown (based on rating)**"
      ]
    },
    {
      "cell_type": "code",
      "metadata": {
        "colab": {
          "base_uri": "https://localhost:8080/",
          "height": 394
        },
        "id": "H6XpwajtPNn9",
        "outputId": "6f30826b-9dd9-42b9-eef2-e257e9b9523d"
      },
      "source": [
        "countries=df['broad_bean_origin'].value_counts().index.tolist()[:5]\n",
        "satisfactory={} \n",
        "for j in countries:\n",
        "    c=0\n",
        "    b=df[df['broad_bean_origin']==j]\n",
        "    br=b[b['rating']>=3] \n",
        "    for i in br['rating']:\n",
        "        c+=1\n",
        "        satisfactory[j]=c    \n",
        "\n",
        "# Code to visualize the countries that give best cocoa beans\n",
        "li=satisfactory.keys()\n",
        "plt.figure(figsize=(10,5))\n",
        "plt.bar(range(len(satisfactory)), satisfactory.values(), align='center',color=['#a22a2a','#511515','#e59a9a','#d04949','#a22a2a'])\n",
        "plt.xticks(range(len(satisfactory)), list(li))\n",
        "plt.xlabel('\\nCountry')\n",
        "plt.ylabel('Number of chocolate bars')\n",
        "plt.title(\"Top 5 Broad origins of the Chocolate Beans with a Rating above 3.0\\n\")\n",
        "plt.show()\n",
        "\n",
        "print(satisfactory)"
      ],
      "execution_count": 27,
      "outputs": [
        {
          "output_type": "display_data",
          "data": {
            "image/png": "[encoded data removed]",
            "text/plain": [
              "<Figure size 720x360 with 1 Axes>"
            ]
          },
          "metadata": {
            "needs_background": "light"
          }
        },
        {
          "output_type": "stream",
          "text": [
            "{'Venezuela': 166, 'Ecuador': 138, 'Peru': 111, 'Madagascar': 117, 'Dominican Republic': 113}\n"
          ],
          "name": "stdout"
        }
      ]
    },
    {
      "cell_type": "markdown",
      "metadata": {
        "id": "4PttrP9QQQuD"
      },
      "source": [
        "## **Analysing the top chocolate bar producing countries (in terms of quantity)**"
      ]
    },
    {
      "cell_type": "code",
      "metadata": {
        "colab": {
          "base_uri": "https://localhost:8080/",
          "height": 492
        },
        "id": "nepcKFf-QDup",
        "outputId": "e5a37829-ca61-4eb5-9162-c2adff2af863"
      },
      "source": [
        "print ('Top Chocolate Producing Countries in the World\\n')\n",
        "country=list(df['company_location'].value_counts().head(10).index)\n",
        "choco_bars=list(df['company_location'].value_counts().head(10))\n",
        "prod_ctry=dict(zip(country,choco_bars))\n",
        "print(df['company_location'].value_counts().head())\n",
        "\n",
        "plt.figure(figsize=(10,5))\n",
        "plt.hlines(y=country,xmin=0,xmax=choco_bars,color='skyblue')\n",
        "plt.plot(choco_bars,country,\"o\")\n",
        "plt.xlabel('Country')\n",
        "plt.ylabel('Number of chocolate bars')\n",
        "plt.title(\"Top Chocolate Producing Countries in the World\")\n",
        "plt.show()"
      ],
      "execution_count": 28,
      "outputs": [
        {
          "output_type": "stream",
          "text": [
            "Top Chocolate Producing Countries in the World\n",
            "\n",
            "U.S.A.    764\n",
            "France    156\n",
            "Canada    125\n",
            "U.K.       96\n",
            "Italy      63\n",
            "Name: company_location, dtype: int64\n"
          ],
          "name": "stdout"
        },
        {
          "output_type": "display_data",
          "data": {
            "image/png": "[encoded data removed]",
            "text/plain": [
              "<Figure size 720x360 with 1 Axes>"
            ]
          },
          "metadata": {
            "needs_background": "light"
          }
        }
      ]
    },
    {
      "cell_type": "code",
      "metadata": {
        "id": "6_gbITs3QV40"
      },
      "source": [
        ""
      ],
      "execution_count": 28,
      "outputs": []
    }
  ]
}