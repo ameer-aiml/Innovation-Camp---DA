{
  "nbformat": 4,
  "nbformat_minor": 5,
  "metadata": {
    "kernelspec": {
      "display_name": "Python 3",
      "language": "python",
      "name": "python3"
    },
    "language_info": {
      "codemirror_mode": {
        "name": "ipython",
        "version": 3
      },
      "file_extension": ".py",
      "mimetype": "text/x-python",
      "name": "python",
      "nbconvert_exporter": "python",
      "pygments_lexer": "ipython3",
      "version": "3.7.10"
    },
    "papermill": {
      "default_parameters": {},
      "duration": 23.670581,
      "end_time": "2021-08-27T16:00:22.037125",
      "environment_variables": {},
      "exception": null,
      "input_path": "__notebook__.ipynb",
      "output_path": "__notebook__.ipynb",
      "parameters": {},
      "start_time": "2021-08-27T15:59:58.366544",
      "version": "2.3.3"
    },
    "colab": {
      "name": "hotel-booking.ipynb",
      "provenance": [],
      "include_colab_link": true
    }
  },
  "cells": [
    {
      "cell_type": "markdown",
      "metadata": {
        "id": "view-in-github",
        "colab_type": "text"
      },
      "source": [
        "<a href=\"https://colab.research.google.com/github/ameer-fice/Innovation-Camp---DA/blob/main/hotel_booking.ipynb\" target=\"_parent\"><img src=\"https://colab.research.google.com/assets/colab-badge.svg\" alt=\"Open In Colab\"/></a>"
      ]
    },
    {
      "cell_type": "markdown",
      "metadata": {
        "papermill": {
          "duration": 0.022187,
          "end_time": "2021-08-27T16:00:05.570283",
          "exception": false,
          "start_time": "2021-08-27T16:00:05.548096",
          "status": "completed"
        },
        "tags": [],
        "id": "fc89b661"
      },
      "source": [
        "**This database is taken from the following article:**\n",
        "    \n",
        "**Hotel Booking Demand Datasets, written by Nuno Antonio, Ana Almeida, and Luis Nunes for Data in Brief, Volume 22, February 2019.**"
      ],
      "id": "fc89b661"
    },
    {
      "cell_type": "markdown",
      "metadata": {
        "papermill": {
          "duration": 0.019837,
          "end_time": "2021-08-27T16:00:05.612080",
          "exception": false,
          "start_time": "2021-08-27T16:00:05.592243",
          "status": "completed"
        },
        "tags": [],
        "id": "7605d1f2"
      },
      "source": [
        "**Imports**"
      ],
      "id": "7605d1f2"
    },
    {
      "cell_type": "code",
      "metadata": {
        "_cell_guid": "b1076dfc-b9ad-4769-8c92-a6c4dae69d19",
        "_uuid": "8f2839f25d086af736a60e9eeb907d3b93b6e0e5",
        "execution": {
          "iopub.execute_input": "2021-08-27T16:00:05.657502Z",
          "iopub.status.busy": "2021-08-27T16:00:05.655949Z",
          "iopub.status.idle": "2021-08-27T16:00:05.665830Z",
          "shell.execute_reply": "2021-08-27T16:00:05.666299Z",
          "shell.execute_reply.started": "2021-08-27T15:56:58.618784Z"
        },
        "papermill": {
          "duration": 0.035134,
          "end_time": "2021-08-27T16:00:05.666516",
          "exception": false,
          "start_time": "2021-08-27T16:00:05.631382",
          "status": "completed"
        },
        "tags": [],
        "id": "2827c18e"
      },
      "source": [
        "import numpy as np \n",
        "import pandas as pd "
      ],
      "id": "2827c18e",
      "execution_count": 1,
      "outputs": []
    },
    {
      "cell_type": "markdown",
      "metadata": {
        "papermill": {
          "duration": 0.019593,
          "end_time": "2021-08-27T16:00:05.705999",
          "exception": false,
          "start_time": "2021-08-27T16:00:05.686406",
          "status": "completed"
        },
        "tags": [],
        "id": "37100651"
      },
      "source": [
        "**1-Reading dataset**"
      ],
      "id": "37100651"
    },
    {
      "cell_type": "code",
      "metadata": {
        "execution": {
          "iopub.execute_input": "2021-08-27T16:00:05.747389Z",
          "iopub.status.busy": "2021-08-27T16:00:05.746619Z",
          "iopub.status.idle": "2021-08-27T16:00:06.722140Z",
          "shell.execute_reply": "2021-08-27T16:00:06.721573Z",
          "shell.execute_reply.started": "2021-08-27T15:56:58.625299Z"
        },
        "papermill": {
          "duration": 0.996807,
          "end_time": "2021-08-27T16:00:06.722292",
          "exception": false,
          "start_time": "2021-08-27T16:00:05.725485",
          "status": "completed"
        },
        "tags": [],
        "id": "8a87365f"
      },
      "source": [
        "df=pd.read_csv('hotel_booking.csv')\n",
        "# https://www.kaggle.com/mojtaba142/hotel-booking\n",
        "# 24 mb data"
      ],
      "id": "8a87365f",
      "execution_count": 2,
      "outputs": []
    },
    {
      "cell_type": "markdown",
      "metadata": {
        "papermill": {
          "duration": 0.019225,
          "end_time": "2021-08-27T16:00:06.761116",
          "exception": false,
          "start_time": "2021-08-27T16:00:06.741891",
          "status": "completed"
        },
        "tags": [],
        "id": "3e463e9f"
      },
      "source": [
        "**2-Check basic database information.**"
      ],
      "id": "3e463e9f"
    },
    {
      "cell_type": "code",
      "metadata": {
        "execution": {
          "iopub.execute_input": "2021-08-27T16:00:06.816292Z",
          "iopub.status.busy": "2021-08-27T16:00:06.815724Z",
          "iopub.status.idle": "2021-08-27T16:00:06.840229Z",
          "shell.execute_reply": "2021-08-27T16:00:06.840832Z",
          "shell.execute_reply.started": "2021-08-27T15:56:59.730374Z"
        },
        "papermill": {
          "duration": 0.059271,
          "end_time": "2021-08-27T16:00:06.841016",
          "exception": false,
          "start_time": "2021-08-27T16:00:06.781745",
          "status": "completed"
        },
        "tags": [],
        "colab": {
          "base_uri": "https://localhost:8080/",
          "height": 412
        },
        "id": "e95bbc14",
        "outputId": "a9e7715a-1ada-4740-d22d-ca1f349480c7"
      },
      "source": [
        "df.head()"
      ],
      "id": "e95bbc14",
      "execution_count": 3,
      "outputs": [
        {
          "output_type": "execute_result",
          "data": {
            "text/html": [
              "<div>\n",
              "<style scoped>\n",
              "    .dataframe tbody tr th:only-of-type {\n",
              "        vertical-align: middle;\n",
              "    }\n",
              "\n",
              "    .dataframe tbody tr th {\n",
              "        vertical-align: top;\n",
              "    }\n",
              "\n",
              "    .dataframe thead th {\n",
              "        text-align: right;\n",
              "    }\n",
              "</style>\n",
              "<table border=\"1\" class=\"dataframe\">\n",
              "  <thead>\n",
              "    <tr style=\"text-align: right;\">\n",
              "      <th></th>\n",
              "      <th>hotel</th>\n",
              "      <th>is_canceled</th>\n",
              "      <th>lead_time</th>\n",
              "      <th>arrival_date_year</th>\n",
              "      <th>arrival_date_month</th>\n",
              "      <th>arrival_date_week_number</th>\n",
              "      <th>arrival_date_day_of_month</th>\n",
              "      <th>stays_in_weekend_nights</th>\n",
              "      <th>stays_in_week_nights</th>\n",
              "      <th>adults</th>\n",
              "      <th>children</th>\n",
              "      <th>babies</th>\n",
              "      <th>meal</th>\n",
              "      <th>country</th>\n",
              "      <th>market_segment</th>\n",
              "      <th>distribution_channel</th>\n",
              "      <th>is_repeated_guest</th>\n",
              "      <th>previous_cancellations</th>\n",
              "      <th>previous_bookings_not_canceled</th>\n",
              "      <th>reserved_room_type</th>\n",
              "      <th>assigned_room_type</th>\n",
              "      <th>booking_changes</th>\n",
              "      <th>deposit_type</th>\n",
              "      <th>agent</th>\n",
              "      <th>company</th>\n",
              "      <th>days_in_waiting_list</th>\n",
              "      <th>customer_type</th>\n",
              "      <th>adr</th>\n",
              "      <th>required_car_parking_spaces</th>\n",
              "      <th>total_of_special_requests</th>\n",
              "      <th>reservation_status</th>\n",
              "      <th>reservation_status_date</th>\n",
              "      <th>name</th>\n",
              "      <th>email</th>\n",
              "      <th>phone-number</th>\n",
              "      <th>credit_card</th>\n",
              "    </tr>\n",
              "  </thead>\n",
              "  <tbody>\n",
              "    <tr>\n",
              "      <th>0</th>\n",
              "      <td>Resort Hotel</td>\n",
              "      <td>0</td>\n",
              "      <td>342</td>\n",
              "      <td>2015</td>\n",
              "      <td>July</td>\n",
              "      <td>27</td>\n",
              "      <td>1</td>\n",
              "      <td>0</td>\n",
              "      <td>0</td>\n",
              "      <td>2</td>\n",
              "      <td>0.0</td>\n",
              "      <td>0</td>\n",
              "      <td>BB</td>\n",
              "      <td>PRT</td>\n",
              "      <td>Direct</td>\n",
              "      <td>Direct</td>\n",
              "      <td>0</td>\n",
              "      <td>0</td>\n",
              "      <td>0</td>\n",
              "      <td>C</td>\n",
              "      <td>C</td>\n",
              "      <td>3</td>\n",
              "      <td>No Deposit</td>\n",
              "      <td>NaN</td>\n",
              "      <td>NaN</td>\n",
              "      <td>0</td>\n",
              "      <td>Transient</td>\n",
              "      <td>0.0</td>\n",
              "      <td>0</td>\n",
              "      <td>0</td>\n",
              "      <td>Check-Out</td>\n",
              "      <td>2015-07-01</td>\n",
              "      <td>Ernest Barnes</td>\n",
              "      <td>Ernest.Barnes31@outlook.com</td>\n",
              "      <td>669-792-1661</td>\n",
              "      <td>************4322</td>\n",
              "    </tr>\n",
              "    <tr>\n",
              "      <th>1</th>\n",
              "      <td>Resort Hotel</td>\n",
              "      <td>0</td>\n",
              "      <td>737</td>\n",
              "      <td>2015</td>\n",
              "      <td>July</td>\n",
              "      <td>27</td>\n",
              "      <td>1</td>\n",
              "      <td>0</td>\n",
              "      <td>0</td>\n",
              "      <td>2</td>\n",
              "      <td>0.0</td>\n",
              "      <td>0</td>\n",
              "      <td>BB</td>\n",
              "      <td>PRT</td>\n",
              "      <td>Direct</td>\n",
              "      <td>Direct</td>\n",
              "      <td>0</td>\n",
              "      <td>0</td>\n",
              "      <td>0</td>\n",
              "      <td>C</td>\n",
              "      <td>C</td>\n",
              "      <td>4</td>\n",
              "      <td>No Deposit</td>\n",
              "      <td>NaN</td>\n",
              "      <td>NaN</td>\n",
              "      <td>0</td>\n",
              "      <td>Transient</td>\n",
              "      <td>0.0</td>\n",
              "      <td>0</td>\n",
              "      <td>0</td>\n",
              "      <td>Check-Out</td>\n",
              "      <td>2015-07-01</td>\n",
              "      <td>Andrea Baker</td>\n",
              "      <td>Andrea_Baker94@aol.com</td>\n",
              "      <td>858-637-6955</td>\n",
              "      <td>************9157</td>\n",
              "    </tr>\n",
              "    <tr>\n",
              "      <th>2</th>\n",
              "      <td>Resort Hotel</td>\n",
              "      <td>0</td>\n",
              "      <td>7</td>\n",
              "      <td>2015</td>\n",
              "      <td>July</td>\n",
              "      <td>27</td>\n",
              "      <td>1</td>\n",
              "      <td>0</td>\n",
              "      <td>1</td>\n",
              "      <td>1</td>\n",
              "      <td>0.0</td>\n",
              "      <td>0</td>\n",
              "      <td>BB</td>\n",
              "      <td>GBR</td>\n",
              "      <td>Direct</td>\n",
              "      <td>Direct</td>\n",
              "      <td>0</td>\n",
              "      <td>0</td>\n",
              "      <td>0</td>\n",
              "      <td>A</td>\n",
              "      <td>C</td>\n",
              "      <td>0</td>\n",
              "      <td>No Deposit</td>\n",
              "      <td>NaN</td>\n",
              "      <td>NaN</td>\n",
              "      <td>0</td>\n",
              "      <td>Transient</td>\n",
              "      <td>75.0</td>\n",
              "      <td>0</td>\n",
              "      <td>0</td>\n",
              "      <td>Check-Out</td>\n",
              "      <td>2015-07-02</td>\n",
              "      <td>Rebecca Parker</td>\n",
              "      <td>Rebecca_Parker@comcast.net</td>\n",
              "      <td>652-885-2745</td>\n",
              "      <td>************3734</td>\n",
              "    </tr>\n",
              "    <tr>\n",
              "      <th>3</th>\n",
              "      <td>Resort Hotel</td>\n",
              "      <td>0</td>\n",
              "      <td>13</td>\n",
              "      <td>2015</td>\n",
              "      <td>July</td>\n",
              "      <td>27</td>\n",
              "      <td>1</td>\n",
              "      <td>0</td>\n",
              "      <td>1</td>\n",
              "      <td>1</td>\n",
              "      <td>0.0</td>\n",
              "      <td>0</td>\n",
              "      <td>BB</td>\n",
              "      <td>GBR</td>\n",
              "      <td>Corporate</td>\n",
              "      <td>Corporate</td>\n",
              "      <td>0</td>\n",
              "      <td>0</td>\n",
              "      <td>0</td>\n",
              "      <td>A</td>\n",
              "      <td>A</td>\n",
              "      <td>0</td>\n",
              "      <td>No Deposit</td>\n",
              "      <td>304.0</td>\n",
              "      <td>NaN</td>\n",
              "      <td>0</td>\n",
              "      <td>Transient</td>\n",
              "      <td>75.0</td>\n",
              "      <td>0</td>\n",
              "      <td>0</td>\n",
              "      <td>Check-Out</td>\n",
              "      <td>2015-07-02</td>\n",
              "      <td>Laura Murray</td>\n",
              "      <td>Laura_M@gmail.com</td>\n",
              "      <td>364-656-8427</td>\n",
              "      <td>************5677</td>\n",
              "    </tr>\n",
              "    <tr>\n",
              "      <th>4</th>\n",
              "      <td>Resort Hotel</td>\n",
              "      <td>0</td>\n",
              "      <td>14</td>\n",
              "      <td>2015</td>\n",
              "      <td>July</td>\n",
              "      <td>27</td>\n",
              "      <td>1</td>\n",
              "      <td>0</td>\n",
              "      <td>2</td>\n",
              "      <td>2</td>\n",
              "      <td>0.0</td>\n",
              "      <td>0</td>\n",
              "      <td>BB</td>\n",
              "      <td>GBR</td>\n",
              "      <td>Online TA</td>\n",
              "      <td>TA/TO</td>\n",
              "      <td>0</td>\n",
              "      <td>0</td>\n",
              "      <td>0</td>\n",
              "      <td>A</td>\n",
              "      <td>A</td>\n",
              "      <td>0</td>\n",
              "      <td>No Deposit</td>\n",
              "      <td>240.0</td>\n",
              "      <td>NaN</td>\n",
              "      <td>0</td>\n",
              "      <td>Transient</td>\n",
              "      <td>98.0</td>\n",
              "      <td>0</td>\n",
              "      <td>1</td>\n",
              "      <td>Check-Out</td>\n",
              "      <td>2015-07-03</td>\n",
              "      <td>Linda Hines</td>\n",
              "      <td>LHines@verizon.com</td>\n",
              "      <td>713-226-5883</td>\n",
              "      <td>************5498</td>\n",
              "    </tr>\n",
              "  </tbody>\n",
              "</table>\n",
              "</div>"
            ],
            "text/plain": [
              "          hotel  is_canceled  ...  phone-number       credit_card\n",
              "0  Resort Hotel            0  ...  669-792-1661  ************4322\n",
              "1  Resort Hotel            0  ...  858-637-6955  ************9157\n",
              "2  Resort Hotel            0  ...  652-885-2745  ************3734\n",
              "3  Resort Hotel            0  ...  364-656-8427  ************5677\n",
              "4  Resort Hotel            0  ...  713-226-5883  ************5498\n",
              "\n",
              "[5 rows x 36 columns]"
            ]
          },
          "metadata": {},
          "execution_count": 3
        }
      ]
    },
    {
      "cell_type": "code",
      "metadata": {
        "execution": {
          "iopub.execute_input": "2021-08-27T16:00:06.886378Z",
          "iopub.status.busy": "2021-08-27T16:00:06.884381Z",
          "iopub.status.idle": "2021-08-27T16:00:07.077226Z",
          "shell.execute_reply": "2021-08-27T16:00:07.076779Z",
          "shell.execute_reply.started": "2021-08-27T15:56:59.779442Z"
        },
        "papermill": {
          "duration": 0.215407,
          "end_time": "2021-08-27T16:00:07.077355",
          "exception": false,
          "start_time": "2021-08-27T16:00:06.861948",
          "status": "completed"
        },
        "tags": [],
        "colab": {
          "base_uri": "https://localhost:8080/"
        },
        "id": "9284d1c2",
        "outputId": "8d6d5c36-3238-4a2f-ed0a-822f120210df"
      },
      "source": [
        "df.info()"
      ],
      "id": "9284d1c2",
      "execution_count": 4,
      "outputs": [
        {
          "output_type": "stream",
          "text": [
            "<class 'pandas.core.frame.DataFrame'>\n",
            "RangeIndex: 119390 entries, 0 to 119389\n",
            "Data columns (total 36 columns):\n",
            " #   Column                          Non-Null Count   Dtype  \n",
            "---  ------                          --------------   -----  \n",
            " 0   hotel                           119390 non-null  object \n",
            " 1   is_canceled                     119390 non-null  int64  \n",
            " 2   lead_time                       119390 non-null  int64  \n",
            " 3   arrival_date_year               119390 non-null  int64  \n",
            " 4   arrival_date_month              119390 non-null  object \n",
            " 5   arrival_date_week_number        119390 non-null  int64  \n",
            " 6   arrival_date_day_of_month       119390 non-null  int64  \n",
            " 7   stays_in_weekend_nights         119390 non-null  int64  \n",
            " 8   stays_in_week_nights            119390 non-null  int64  \n",
            " 9   adults                          119390 non-null  int64  \n",
            " 10  children                        119386 non-null  float64\n",
            " 11  babies                          119390 non-null  int64  \n",
            " 12  meal                            119390 non-null  object \n",
            " 13  country                         118902 non-null  object \n",
            " 14  market_segment                  119390 non-null  object \n",
            " 15  distribution_channel            119390 non-null  object \n",
            " 16  is_repeated_guest               119390 non-null  int64  \n",
            " 17  previous_cancellations          119390 non-null  int64  \n",
            " 18  previous_bookings_not_canceled  119390 non-null  int64  \n",
            " 19  reserved_room_type              119390 non-null  object \n",
            " 20  assigned_room_type              119390 non-null  object \n",
            " 21  booking_changes                 119390 non-null  int64  \n",
            " 22  deposit_type                    119390 non-null  object \n",
            " 23  agent                           103050 non-null  float64\n",
            " 24  company                         6797 non-null    float64\n",
            " 25  days_in_waiting_list            119390 non-null  int64  \n",
            " 26  customer_type                   119390 non-null  object \n",
            " 27  adr                             119390 non-null  float64\n",
            " 28  required_car_parking_spaces     119390 non-null  int64  \n",
            " 29  total_of_special_requests       119390 non-null  int64  \n",
            " 30  reservation_status              119390 non-null  object \n",
            " 31  reservation_status_date         119390 non-null  object \n",
            " 32  name                            119390 non-null  object \n",
            " 33  email                           119390 non-null  object \n",
            " 34  phone-number                    119390 non-null  object \n",
            " 35  credit_card                     119390 non-null  object \n",
            "dtypes: float64(4), int64(16), object(16)\n",
            "memory usage: 32.8+ MB\n"
          ],
          "name": "stdout"
        }
      ]
    },
    {
      "cell_type": "code",
      "metadata": {
        "execution": {
          "iopub.execute_input": "2021-08-27T16:00:07.125923Z",
          "iopub.status.busy": "2021-08-27T16:00:07.125143Z",
          "iopub.status.idle": "2021-08-27T16:00:07.128886Z",
          "shell.execute_reply": "2021-08-27T16:00:07.128292Z",
          "shell.execute_reply.started": "2021-08-27T15:57:00.003738Z"
        },
        "papermill": {
          "duration": 0.030279,
          "end_time": "2021-08-27T16:00:07.129009",
          "exception": false,
          "start_time": "2021-08-27T16:00:07.098730",
          "status": "completed"
        },
        "tags": [],
        "colab": {
          "base_uri": "https://localhost:8080/"
        },
        "id": "24214027",
        "outputId": "effab8cc-d228-4a39-d7f7-fbbe3522f416"
      },
      "source": [
        "df.shape"
      ],
      "id": "24214027",
      "execution_count": 5,
      "outputs": [
        {
          "output_type": "execute_result",
          "data": {
            "text/plain": [
              "(119390, 36)"
            ]
          },
          "metadata": {},
          "execution_count": 5
        }
      ]
    },
    {
      "cell_type": "markdown",
      "metadata": {
        "papermill": {
          "duration": 0.020499,
          "end_time": "2021-08-27T16:00:07.170031",
          "exception": false,
          "start_time": "2021-08-27T16:00:07.149532",
          "status": "completed"
        },
        "tags": [],
        "id": "3d798f95"
      },
      "source": [
        "**3-How many rows does this dataframe have?**"
      ],
      "id": "3d798f95"
    },
    {
      "cell_type": "code",
      "metadata": {
        "execution": {
          "iopub.execute_input": "2021-08-27T16:00:07.215989Z",
          "iopub.status.busy": "2021-08-27T16:00:07.215110Z",
          "iopub.status.idle": "2021-08-27T16:00:07.218938Z",
          "shell.execute_reply": "2021-08-27T16:00:07.218360Z",
          "shell.execute_reply.started": "2021-08-27T15:57:00.012213Z"
        },
        "papermill": {
          "duration": 0.027698,
          "end_time": "2021-08-27T16:00:07.219063",
          "exception": false,
          "start_time": "2021-08-27T16:00:07.191365",
          "status": "completed"
        },
        "tags": [],
        "colab": {
          "base_uri": "https://localhost:8080/"
        },
        "id": "b168f3c4",
        "outputId": "60f59f75-3d6f-4b70-8203-aca0bd6062d5"
      },
      "source": [
        "print(\"Our dataset have \", df.shape[0] ,' rows.')"
      ],
      "id": "b168f3c4",
      "execution_count": 6,
      "outputs": [
        {
          "output_type": "stream",
          "text": [
            "Our dataset have  119390  rows.\n"
          ],
          "name": "stdout"
        }
      ]
    },
    {
      "cell_type": "markdown",
      "metadata": {
        "papermill": {
          "duration": 0.020318,
          "end_time": "2021-08-27T16:00:07.259855",
          "exception": false,
          "start_time": "2021-08-27T16:00:07.239537",
          "status": "completed"
        },
        "tags": [],
        "id": "3c4e39f2"
      },
      "source": [
        "**4-Do we have lost data? If yes, which column has the most missing data?**"
      ],
      "id": "3c4e39f2"
    },
    {
      "cell_type": "code",
      "metadata": {
        "execution": {
          "iopub.execute_input": "2021-08-27T16:00:07.305950Z",
          "iopub.status.busy": "2021-08-27T16:00:07.305418Z",
          "iopub.status.idle": "2021-08-27T16:00:07.485873Z",
          "shell.execute_reply": "2021-08-27T16:00:07.485357Z",
          "shell.execute_reply.started": "2021-08-27T15:57:00.025588Z"
        },
        "papermill": {
          "duration": 0.205414,
          "end_time": "2021-08-27T16:00:07.486032",
          "exception": false,
          "start_time": "2021-08-27T16:00:07.280618",
          "status": "completed"
        },
        "tags": [],
        "colab": {
          "base_uri": "https://localhost:8080/"
        },
        "id": "c413b777",
        "outputId": "af848f79-80bc-4f45-f02e-389b118ff761"
      },
      "source": [
        "count_null=df.isnull().sum()\n",
        "for i in range(df.shape[0]-2):\n",
        "    if(count_null[i]>0):\n",
        "        print('yes, we have at least one missing data.')\n",
        "        break"
      ],
      "id": "c413b777",
      "execution_count": 7,
      "outputs": [
        {
          "output_type": "stream",
          "text": [
            "yes, we have at least one missing data.\n"
          ],
          "name": "stdout"
        }
      ]
    },
    {
      "cell_type": "code",
      "metadata": {
        "execution": {
          "iopub.execute_input": "2021-08-27T16:00:07.532327Z",
          "iopub.status.busy": "2021-08-27T16:00:07.531809Z",
          "iopub.status.idle": "2021-08-27T16:00:07.707431Z",
          "shell.execute_reply": "2021-08-27T16:00:07.707880Z",
          "shell.execute_reply.started": "2021-08-27T15:57:00.236018Z"
        },
        "papermill": {
          "duration": 0.200487,
          "end_time": "2021-08-27T16:00:07.708056",
          "exception": false,
          "start_time": "2021-08-27T16:00:07.507569",
          "status": "completed"
        },
        "tags": [],
        "colab": {
          "base_uri": "https://localhost:8080/"
        },
        "id": "4bb906fc",
        "outputId": "0c95d369-c39d-46cf-cf68-04cc9eb63e1a"
      },
      "source": [
        "max_null_val=df.isnull().sum().idxmax()\n",
        "print('The maximum number of Null data is in column *** ',max_null_val,' ***')"
      ],
      "id": "4bb906fc",
      "execution_count": 8,
      "outputs": [
        {
          "output_type": "stream",
          "text": [
            "The maximum number of Null data is in column ***  company  ***\n"
          ],
          "name": "stdout"
        }
      ]
    },
    {
      "cell_type": "markdown",
      "metadata": {
        "papermill": {
          "duration": 0.02111,
          "end_time": "2021-08-27T16:00:07.750089",
          "exception": false,
          "start_time": "2021-08-27T16:00:07.728979",
          "status": "completed"
        },
        "tags": [],
        "id": "6eeb4ae0"
      },
      "source": [
        "**5-Remove the company column from the dataframe.**"
      ],
      "id": "6eeb4ae0"
    },
    {
      "cell_type": "code",
      "metadata": {
        "execution": {
          "iopub.execute_input": "2021-08-27T16:00:07.833439Z",
          "iopub.status.busy": "2021-08-27T16:00:07.825150Z",
          "iopub.status.idle": "2021-08-27T16:00:07.837888Z",
          "shell.execute_reply": "2021-08-27T16:00:07.837140Z",
          "shell.execute_reply.started": "2021-08-27T15:57:00.437236Z"
        },
        "papermill": {
          "duration": 0.065695,
          "end_time": "2021-08-27T16:00:07.838072",
          "exception": false,
          "start_time": "2021-08-27T16:00:07.772377",
          "status": "completed"
        },
        "tags": [],
        "id": "35c2cfe6"
      },
      "source": [
        "df=df.drop(['company'], axis = 1)"
      ],
      "id": "35c2cfe6",
      "execution_count": 9,
      "outputs": []
    },
    {
      "cell_type": "code",
      "metadata": {
        "execution": {
          "iopub.execute_input": "2021-08-27T16:00:07.896636Z",
          "iopub.status.busy": "2021-08-27T16:00:07.895811Z",
          "iopub.status.idle": "2021-08-27T16:00:07.914181Z",
          "shell.execute_reply": "2021-08-27T16:00:07.913546Z",
          "shell.execute_reply.started": "2021-08-27T15:57:00.472607Z"
        },
        "papermill": {
          "duration": 0.049617,
          "end_time": "2021-08-27T16:00:07.914317",
          "exception": false,
          "start_time": "2021-08-27T16:00:07.864700",
          "status": "completed"
        },
        "tags": [],
        "colab": {
          "base_uri": "https://localhost:8080/",
          "height": 412
        },
        "id": "4262afa0",
        "outputId": "6850aee9-e77f-4bac-ca48-5efced9d0951"
      },
      "source": [
        "df.head()"
      ],
      "id": "4262afa0",
      "execution_count": 10,
      "outputs": [
        {
          "output_type": "execute_result",
          "data": {
            "text/html": [
              "<div>\n",
              "<style scoped>\n",
              "    .dataframe tbody tr th:only-of-type {\n",
              "        vertical-align: middle;\n",
              "    }\n",
              "\n",
              "    .dataframe tbody tr th {\n",
              "        vertical-align: top;\n",
              "    }\n",
              "\n",
              "    .dataframe thead th {\n",
              "        text-align: right;\n",
              "    }\n",
              "</style>\n",
              "<table border=\"1\" class=\"dataframe\">\n",
              "  <thead>\n",
              "    <tr style=\"text-align: right;\">\n",
              "      <th></th>\n",
              "      <th>hotel</th>\n",
              "      <th>is_canceled</th>\n",
              "      <th>lead_time</th>\n",
              "      <th>arrival_date_year</th>\n",
              "      <th>arrival_date_month</th>\n",
              "      <th>arrival_date_week_number</th>\n",
              "      <th>arrival_date_day_of_month</th>\n",
              "      <th>stays_in_weekend_nights</th>\n",
              "      <th>stays_in_week_nights</th>\n",
              "      <th>adults</th>\n",
              "      <th>children</th>\n",
              "      <th>babies</th>\n",
              "      <th>meal</th>\n",
              "      <th>country</th>\n",
              "      <th>market_segment</th>\n",
              "      <th>distribution_channel</th>\n",
              "      <th>is_repeated_guest</th>\n",
              "      <th>previous_cancellations</th>\n",
              "      <th>previous_bookings_not_canceled</th>\n",
              "      <th>reserved_room_type</th>\n",
              "      <th>assigned_room_type</th>\n",
              "      <th>booking_changes</th>\n",
              "      <th>deposit_type</th>\n",
              "      <th>agent</th>\n",
              "      <th>days_in_waiting_list</th>\n",
              "      <th>customer_type</th>\n",
              "      <th>adr</th>\n",
              "      <th>required_car_parking_spaces</th>\n",
              "      <th>total_of_special_requests</th>\n",
              "      <th>reservation_status</th>\n",
              "      <th>reservation_status_date</th>\n",
              "      <th>name</th>\n",
              "      <th>email</th>\n",
              "      <th>phone-number</th>\n",
              "      <th>credit_card</th>\n",
              "    </tr>\n",
              "  </thead>\n",
              "  <tbody>\n",
              "    <tr>\n",
              "      <th>0</th>\n",
              "      <td>Resort Hotel</td>\n",
              "      <td>0</td>\n",
              "      <td>342</td>\n",
              "      <td>2015</td>\n",
              "      <td>July</td>\n",
              "      <td>27</td>\n",
              "      <td>1</td>\n",
              "      <td>0</td>\n",
              "      <td>0</td>\n",
              "      <td>2</td>\n",
              "      <td>0.0</td>\n",
              "      <td>0</td>\n",
              "      <td>BB</td>\n",
              "      <td>PRT</td>\n",
              "      <td>Direct</td>\n",
              "      <td>Direct</td>\n",
              "      <td>0</td>\n",
              "      <td>0</td>\n",
              "      <td>0</td>\n",
              "      <td>C</td>\n",
              "      <td>C</td>\n",
              "      <td>3</td>\n",
              "      <td>No Deposit</td>\n",
              "      <td>NaN</td>\n",
              "      <td>0</td>\n",
              "      <td>Transient</td>\n",
              "      <td>0.0</td>\n",
              "      <td>0</td>\n",
              "      <td>0</td>\n",
              "      <td>Check-Out</td>\n",
              "      <td>2015-07-01</td>\n",
              "      <td>Ernest Barnes</td>\n",
              "      <td>Ernest.Barnes31@outlook.com</td>\n",
              "      <td>669-792-1661</td>\n",
              "      <td>************4322</td>\n",
              "    </tr>\n",
              "    <tr>\n",
              "      <th>1</th>\n",
              "      <td>Resort Hotel</td>\n",
              "      <td>0</td>\n",
              "      <td>737</td>\n",
              "      <td>2015</td>\n",
              "      <td>July</td>\n",
              "      <td>27</td>\n",
              "      <td>1</td>\n",
              "      <td>0</td>\n",
              "      <td>0</td>\n",
              "      <td>2</td>\n",
              "      <td>0.0</td>\n",
              "      <td>0</td>\n",
              "      <td>BB</td>\n",
              "      <td>PRT</td>\n",
              "      <td>Direct</td>\n",
              "      <td>Direct</td>\n",
              "      <td>0</td>\n",
              "      <td>0</td>\n",
              "      <td>0</td>\n",
              "      <td>C</td>\n",
              "      <td>C</td>\n",
              "      <td>4</td>\n",
              "      <td>No Deposit</td>\n",
              "      <td>NaN</td>\n",
              "      <td>0</td>\n",
              "      <td>Transient</td>\n",
              "      <td>0.0</td>\n",
              "      <td>0</td>\n",
              "      <td>0</td>\n",
              "      <td>Check-Out</td>\n",
              "      <td>2015-07-01</td>\n",
              "      <td>Andrea Baker</td>\n",
              "      <td>Andrea_Baker94@aol.com</td>\n",
              "      <td>858-637-6955</td>\n",
              "      <td>************9157</td>\n",
              "    </tr>\n",
              "    <tr>\n",
              "      <th>2</th>\n",
              "      <td>Resort Hotel</td>\n",
              "      <td>0</td>\n",
              "      <td>7</td>\n",
              "      <td>2015</td>\n",
              "      <td>July</td>\n",
              "      <td>27</td>\n",
              "      <td>1</td>\n",
              "      <td>0</td>\n",
              "      <td>1</td>\n",
              "      <td>1</td>\n",
              "      <td>0.0</td>\n",
              "      <td>0</td>\n",
              "      <td>BB</td>\n",
              "      <td>GBR</td>\n",
              "      <td>Direct</td>\n",
              "      <td>Direct</td>\n",
              "      <td>0</td>\n",
              "      <td>0</td>\n",
              "      <td>0</td>\n",
              "      <td>A</td>\n",
              "      <td>C</td>\n",
              "      <td>0</td>\n",
              "      <td>No Deposit</td>\n",
              "      <td>NaN</td>\n",
              "      <td>0</td>\n",
              "      <td>Transient</td>\n",
              "      <td>75.0</td>\n",
              "      <td>0</td>\n",
              "      <td>0</td>\n",
              "      <td>Check-Out</td>\n",
              "      <td>2015-07-02</td>\n",
              "      <td>Rebecca Parker</td>\n",
              "      <td>Rebecca_Parker@comcast.net</td>\n",
              "      <td>652-885-2745</td>\n",
              "      <td>************3734</td>\n",
              "    </tr>\n",
              "    <tr>\n",
              "      <th>3</th>\n",
              "      <td>Resort Hotel</td>\n",
              "      <td>0</td>\n",
              "      <td>13</td>\n",
              "      <td>2015</td>\n",
              "      <td>July</td>\n",
              "      <td>27</td>\n",
              "      <td>1</td>\n",
              "      <td>0</td>\n",
              "      <td>1</td>\n",
              "      <td>1</td>\n",
              "      <td>0.0</td>\n",
              "      <td>0</td>\n",
              "      <td>BB</td>\n",
              "      <td>GBR</td>\n",
              "      <td>Corporate</td>\n",
              "      <td>Corporate</td>\n",
              "      <td>0</td>\n",
              "      <td>0</td>\n",
              "      <td>0</td>\n",
              "      <td>A</td>\n",
              "      <td>A</td>\n",
              "      <td>0</td>\n",
              "      <td>No Deposit</td>\n",
              "      <td>304.0</td>\n",
              "      <td>0</td>\n",
              "      <td>Transient</td>\n",
              "      <td>75.0</td>\n",
              "      <td>0</td>\n",
              "      <td>0</td>\n",
              "      <td>Check-Out</td>\n",
              "      <td>2015-07-02</td>\n",
              "      <td>Laura Murray</td>\n",
              "      <td>Laura_M@gmail.com</td>\n",
              "      <td>364-656-8427</td>\n",
              "      <td>************5677</td>\n",
              "    </tr>\n",
              "    <tr>\n",
              "      <th>4</th>\n",
              "      <td>Resort Hotel</td>\n",
              "      <td>0</td>\n",
              "      <td>14</td>\n",
              "      <td>2015</td>\n",
              "      <td>July</td>\n",
              "      <td>27</td>\n",
              "      <td>1</td>\n",
              "      <td>0</td>\n",
              "      <td>2</td>\n",
              "      <td>2</td>\n",
              "      <td>0.0</td>\n",
              "      <td>0</td>\n",
              "      <td>BB</td>\n",
              "      <td>GBR</td>\n",
              "      <td>Online TA</td>\n",
              "      <td>TA/TO</td>\n",
              "      <td>0</td>\n",
              "      <td>0</td>\n",
              "      <td>0</td>\n",
              "      <td>A</td>\n",
              "      <td>A</td>\n",
              "      <td>0</td>\n",
              "      <td>No Deposit</td>\n",
              "      <td>240.0</td>\n",
              "      <td>0</td>\n",
              "      <td>Transient</td>\n",
              "      <td>98.0</td>\n",
              "      <td>0</td>\n",
              "      <td>1</td>\n",
              "      <td>Check-Out</td>\n",
              "      <td>2015-07-03</td>\n",
              "      <td>Linda Hines</td>\n",
              "      <td>LHines@verizon.com</td>\n",
              "      <td>713-226-5883</td>\n",
              "      <td>************5498</td>\n",
              "    </tr>\n",
              "  </tbody>\n",
              "</table>\n",
              "</div>"
            ],
            "text/plain": [
              "          hotel  is_canceled  ...  phone-number       credit_card\n",
              "0  Resort Hotel            0  ...  669-792-1661  ************4322\n",
              "1  Resort Hotel            0  ...  858-637-6955  ************9157\n",
              "2  Resort Hotel            0  ...  652-885-2745  ************3734\n",
              "3  Resort Hotel            0  ...  364-656-8427  ************5677\n",
              "4  Resort Hotel            0  ...  713-226-5883  ************5498\n",
              "\n",
              "[5 rows x 35 columns]"
            ]
          },
          "metadata": {},
          "execution_count": 10
        }
      ]
    },
    {
      "cell_type": "markdown",
      "metadata": {
        "papermill": {
          "duration": 0.022054,
          "end_time": "2021-08-27T16:00:07.958814",
          "exception": false,
          "start_time": "2021-08-27T16:00:07.936760",
          "status": "completed"
        },
        "tags": [],
        "id": "95ccc9ee"
      },
      "source": [
        "**6-Which country do most travelers come from?**\n",
        "\n",
        "**List the 5 countries with the most passengers.**"
      ],
      "id": "95ccc9ee"
    },
    {
      "cell_type": "code",
      "metadata": {
        "execution": {
          "iopub.execute_input": "2021-08-27T16:00:08.020467Z",
          "iopub.status.busy": "2021-08-27T16:00:08.019951Z",
          "iopub.status.idle": "2021-08-27T16:00:08.037246Z",
          "shell.execute_reply": "2021-08-27T16:00:08.037661Z",
          "shell.execute_reply.started": "2021-08-27T15:57:00.507019Z"
        },
        "papermill": {
          "duration": 0.057278,
          "end_time": "2021-08-27T16:00:08.037808",
          "exception": false,
          "start_time": "2021-08-27T16:00:07.980530",
          "status": "completed"
        },
        "tags": [],
        "colab": {
          "base_uri": "https://localhost:8080/"
        },
        "id": "b01101e2",
        "outputId": "b4f11ff2-8a26-490d-eb4e-b125682c6240"
      },
      "source": [
        "count_country=df.groupby(by='country')['name'].count()\n",
        "count_country=count_country.sort_values(ascending=False)\n",
        "df_count_country=pd.DataFrame(count_country)\n",
        "\n",
        "print(\"The most travelers come from:\\n \",count_country[:1])\n",
        "\n",
        "print(\"\\nList the 5 countries with the most passengers.\\n\",count_country[:5])"
      ],
      "id": "b01101e2",
      "execution_count": 11,
      "outputs": [
        {
          "output_type": "stream",
          "text": [
            "The most travelers come from:\n",
            "  country\n",
            "PRT    48590\n",
            "Name: name, dtype: int64\n",
            "\n",
            "List the 5 countries with the most passengers.\n",
            " country\n",
            "PRT    48590\n",
            "GBR    12129\n",
            "FRA    10415\n",
            "ESP     8568\n",
            "DEU     7287\n",
            "Name: name, dtype: int64\n"
          ],
          "name": "stdout"
        }
      ]
    },
    {
      "cell_type": "code",
      "metadata": {
        "colab": {
          "base_uri": "https://localhost:8080/",
          "height": 309
        },
        "id": "95MDlxhXStKn",
        "outputId": "3cc1a96f-fdc1-48ae-bc66-5d29f3de27a0"
      },
      "source": [
        "count_country[:5].plot(kind='bar')"
      ],
      "id": "95MDlxhXStKn",
      "execution_count": 20,
      "outputs": [
        {
          "output_type": "execute_result",
          "data": {
            "text/plain": [
              "<matplotlib.axes._subplots.AxesSubplot at 0x7ff58b309ed0>"
            ]
          },
          "metadata": {},
          "execution_count": 20
        },
        {
          "output_type": "display_data",
          "data": {
            "image/png": "[encoded data removed]",
            "text/plain": [
              "<Figure size 432x288 with 1 Axes>"
            ]
          },
          "metadata": {
            "needs_background": "light"
          }
        }
      ]
    },
    {
      "cell_type": "markdown",
      "metadata": {
        "papermill": {
          "duration": 0.021865,
          "end_time": "2021-08-27T16:00:08.081917",
          "exception": false,
          "start_time": "2021-08-27T16:00:08.060052",
          "status": "completed"
        },
        "tags": [],
        "id": "946c6dcb"
      },
      "source": [
        "**7-Who has the most ADR? How much?**"
      ],
      "id": "946c6dcb"
    },
    {
      "cell_type": "code",
      "metadata": {
        "execution": {
          "iopub.execute_input": "2021-08-27T16:00:08.137191Z",
          "iopub.status.busy": "2021-08-27T16:00:08.131969Z",
          "iopub.status.idle": "2021-08-27T16:00:08.291953Z",
          "shell.execute_reply": "2021-08-27T16:00:08.292347Z",
          "shell.execute_reply.started": "2021-08-27T15:57:00.556354Z"
        },
        "papermill": {
          "duration": 0.188698,
          "end_time": "2021-08-27T16:00:08.292510",
          "exception": false,
          "start_time": "2021-08-27T16:00:08.103812",
          "status": "completed"
        },
        "tags": [],
        "colab": {
          "base_uri": "https://localhost:8080/"
        },
        "id": "ecb68158",
        "outputId": "ef65e220-9e28-48ee-e1b6-9712c6d52081"
      },
      "source": [
        "ADR=df.groupby(by='name')['adr'].max()\n",
        "ADR=ADR.sort_values(ascending=False)\n",
        "ADR_df = pd.DataFrame(ADR)\n",
        "print('The most ADR(Average Daily Rate) is:\\n',ADR_df.iloc[0])"
      ],
      "id": "ecb68158",
      "execution_count": 13,
      "outputs": [
        {
          "output_type": "stream",
          "text": [
            "The most ADR(Average Daily Rate) is:\n",
            " adr    5400.0\n",
            "Name: Daniel Walter, dtype: float64\n"
          ],
          "name": "stdout"
        }
      ]
    },
    {
      "cell_type": "markdown",
      "metadata": {
        "papermill": {
          "duration": 0.021919,
          "end_time": "2021-08-27T16:00:08.336881",
          "exception": false,
          "start_time": "2021-08-27T16:00:08.314962",
          "status": "completed"
        },
        "tags": [],
        "id": "5810c301"
      },
      "source": [
        "**8-Specify the mean of the total ADR?** (two decimal places)"
      ],
      "id": "5810c301"
    },
    {
      "cell_type": "code",
      "metadata": {
        "execution": {
          "iopub.execute_input": "2021-08-27T16:00:08.385827Z",
          "iopub.status.busy": "2021-08-27T16:00:08.385061Z",
          "iopub.status.idle": "2021-08-27T16:00:08.388784Z",
          "shell.execute_reply": "2021-08-27T16:00:08.389162Z",
          "shell.execute_reply.started": "2021-08-27T15:57:00.774800Z"
        },
        "papermill": {
          "duration": 0.030593,
          "end_time": "2021-08-27T16:00:08.389294",
          "exception": false,
          "start_time": "2021-08-27T16:00:08.358701",
          "status": "completed"
        },
        "tags": [],
        "colab": {
          "base_uri": "https://localhost:8080/"
        },
        "id": "5cff8f20",
        "outputId": "0867b461-abc8-4e7a-8db1-6647b8c314ca"
      },
      "source": [
        "num_adr=df['adr'].count()\n",
        "Avg_adr=df['adr'].sum()/num_adr\n",
        "\n",
        "print('Average of total Average Daily Rate is:', Avg_adr.round(decimals=2))\n"
      ],
      "id": "5cff8f20",
      "execution_count": 14,
      "outputs": [
        {
          "output_type": "stream",
          "text": [
            "Average of total Average Daily Rate is: 101.83\n"
          ],
          "name": "stdout"
        }
      ]
    },
    {
      "cell_type": "markdown",
      "metadata": {
        "papermill": {
          "duration": 0.022275,
          "end_time": "2021-08-27T16:00:08.434733",
          "exception": false,
          "start_time": "2021-08-27T16:00:08.412458",
          "status": "completed"
        },
        "tags": [],
        "id": "2c2048f4"
      },
      "source": [
        "**9-Specify the average number of nights spent.** (two decimal places)"
      ],
      "id": "2c2048f4"
    },
    {
      "cell_type": "code",
      "metadata": {
        "execution": {
          "iopub.execute_input": "2021-08-27T16:00:08.486420Z",
          "iopub.status.busy": "2021-08-27T16:00:08.485672Z",
          "iopub.status.idle": "2021-08-27T16:00:10.439568Z",
          "shell.execute_reply": "2021-08-27T16:00:10.440035Z",
          "shell.execute_reply.started": "2021-08-27T15:59:20.496436Z"
        },
        "papermill": {
          "duration": 1.981376,
          "end_time": "2021-08-27T16:00:10.440190",
          "exception": false,
          "start_time": "2021-08-27T16:00:08.458814",
          "status": "completed"
        },
        "tags": [],
        "colab": {
          "base_uri": "https://localhost:8080/"
        },
        "id": "62255c61",
        "outputId": "15d88198-53bf-4652-f025-ae907545b34f"
      },
      "source": [
        "df['all_night']= df.apply(lambda x: x['stays_in_weekend_nights'] + x['stays_in_week_nights'], axis=1)\n",
        "m = df['all_night'].mean()\n",
        "np.round(m,2)"
      ],
      "id": "62255c61",
      "execution_count": 15,
      "outputs": [
        {
          "output_type": "execute_result",
          "data": {
            "text/plain": [
              "3.43"
            ]
          },
          "metadata": {},
          "execution_count": 15
        }
      ]
    },
    {
      "cell_type": "markdown",
      "metadata": {
        "papermill": {
          "duration": 0.023437,
          "end_time": "2021-08-27T16:00:10.487244",
          "exception": false,
          "start_time": "2021-08-27T16:00:10.463807",
          "status": "completed"
        },
        "tags": [],
        "id": "06ae3b4d"
      },
      "source": [
        "**10-Specify the Name and Email of people who had 5 special requests.**"
      ],
      "id": "06ae3b4d"
    },
    {
      "cell_type": "code",
      "metadata": {
        "execution": {
          "iopub.execute_input": "2021-08-27T16:00:10.537654Z",
          "iopub.status.busy": "2021-08-27T16:00:10.536868Z",
          "iopub.status.idle": "2021-08-27T16:00:20.803302Z",
          "shell.execute_reply": "2021-08-27T16:00:20.802798Z",
          "shell.execute_reply.started": "2021-08-27T15:57:00.803038Z"
        },
        "papermill": {
          "duration": 10.292341,
          "end_time": "2021-08-27T16:00:20.803424",
          "exception": false,
          "start_time": "2021-08-27T16:00:10.511083",
          "status": "completed"
        },
        "tags": [],
        "colab": {
          "base_uri": "https://localhost:8080/"
        },
        "id": "acecd735",
        "outputId": "2300ca17-aec2-42fe-c70c-898001c17df1"
      },
      "source": [
        "df_day=df.groupby(by='phone-number')['total_of_special_requests','name','email'].first()\n",
        "\n",
        "\n",
        "for i in range(81503):\n",
        "    if df_day.iloc[i][0] == 5:\n",
        "        print(df_day.iloc[i],\"\\n\\n\")"
      ],
      "id": "acecd735",
      "execution_count": 16,
      "outputs": [
        {
          "output_type": "stream",
          "text": [
            "/usr/local/lib/python3.7/dist-packages/ipykernel_launcher.py:1: FutureWarning: Indexing with multiple keys (implicitly converted to a tuple of keys) will be deprecated, use a list instead.\n",
            "  \"\"\"Entry point for launching an IPython kernel.\n"
          ],
          "name": "stderr"
        },
        {
          "output_type": "stream",
          "text": [
            "total_of_special_requests                    5\n",
            "name                               Sarah Floyd\n",
            "email                        Sarah_F@gmail.com\n",
            "Name: 100-586-7149, dtype: object \n",
            "\n",
            "\n",
            "total_of_special_requests                            5\n",
            "name                                     Laura Sanders\n",
            "email                        Sanders_Laura@hotmail.com\n",
            "Name: 120-754-3942, dtype: object \n",
            "\n",
            "\n",
            "total_of_special_requests                         5\n",
            "name                                 Melinda Jensen\n",
            "email                        MelindaJensen@zoho.com\n",
            "Name: 129-892-8585, dtype: object \n",
            "\n",
            "\n",
            "total_of_special_requests                     5\n",
            "name                             Angela Hawkins\n",
            "email                        Angela_H@gmail.com\n",
            "Name: 198-157-4544, dtype: object \n",
            "\n",
            "\n",
            "total_of_special_requests                              5\n",
            "name                                     Cynthia Cabrera\n",
            "email                        Cabrera.Cynthia@xfinity.com\n",
            "Name: 280-973-9357, dtype: object \n",
            "\n",
            "\n",
            "total_of_special_requests                         5\n",
            "name                                 Matthew Bailey\n",
            "email                        Matthew_Bailey@aol.com\n",
            "Name: 285-274-5663, dtype: object \n",
            "\n",
            "\n",
            "total_of_special_requests                      5\n",
            "name                                  Sue Lawson\n",
            "email                        Sue.L52@comcast.net\n",
            "Name: 287-649-4214, dtype: object \n",
            "\n",
            "\n",
            "total_of_special_requests                              5\n",
            "name                                     Taylor Martinez\n",
            "email                        Taylor.Martinez@hotmail.com\n",
            "Name: 290-360-7041, dtype: object \n",
            "\n",
            "\n",
            "total_of_special_requests                     5\n",
            "name                            Jennifer Weaver\n",
            "email                        Jennifer_W@aol.com\n",
            "Name: 341-150-8437, dtype: object \n",
            "\n",
            "\n",
            "total_of_special_requests                           5\n",
            "name                                 Lindsey Mckenzie\n",
            "email                        Lindsey.Mckenzie@att.com\n",
            "Name: 342-438-6097, dtype: object \n",
            "\n",
            "\n",
            "total_of_special_requests                          5\n",
            "name                               Charlotte Acevedo\n",
            "email                        Charlotte_A@verizon.com\n",
            "Name: 345-877-4448, dtype: object \n",
            "\n",
            "\n",
            "total_of_special_requests                     5\n",
            "name                         Dr. Trevor Sellers\n",
            "email                             Dr._S@aol.com\n",
            "Name: 365-005-8392, dtype: object \n",
            "\n",
            "\n",
            "total_of_special_requests                      5\n",
            "name                                 Tommy Ortiz\n",
            "email                        Tommy_O@hotmail.com\n",
            "Name: 377-098-5937, dtype: object \n",
            "\n",
            "\n",
            "total_of_special_requests                         5\n",
            "name                                 Timothy Torres\n",
            "email                        TTorres@protonmail.com\n",
            "Name: 422-113-4918, dtype: object \n",
            "\n",
            "\n",
            "total_of_special_requests                     5\n",
            "name                          Mrs. Caitlin Webb\n",
            "email                        Mrs._W@comcast.net\n",
            "Name: 428-370-6078, dtype: object \n",
            "\n",
            "\n",
            "total_of_special_requests                           5\n",
            "name                                   Charles Wilson\n",
            "email                        Charles_Wilson@yahoo.com\n",
            "Name: 469-999-0942, dtype: object \n",
            "\n",
            "\n",
            "total_of_special_requests                           5\n",
            "name                                   Nichole Hebert\n",
            "email                        Hebert.Nichole@gmail.com\n",
            "Name: 474-796-1175, dtype: object \n",
            "\n",
            "\n",
            "total_of_special_requests                         5\n",
            "name                                 Michelle Villa\n",
            "email                        Michelle.Villa@aol.com\n",
            "Name: 494-968-0905, dtype: object \n",
            "\n",
            "\n",
            "total_of_special_requests                      5\n",
            "name                               Michael Smith\n",
            "email                        Michael.S42@aol.com\n",
            "Name: 543-085-3867, dtype: object \n",
            "\n",
            "\n",
            "total_of_special_requests                        5\n",
            "name                                Michaela Brown\n",
            "email                        MichaelaBrown@att.com\n",
            "Name: 548-026-5186, dtype: object \n",
            "\n",
            "\n",
            "total_of_special_requests                        5\n",
            "name                                  Holly Arroyo\n",
            "email                        Arroyo_Holly@mail.com\n",
            "Name: 552-014-6735, dtype: object \n",
            "\n",
            "\n",
            "total_of_special_requests                             5\n",
            "name                                        Mary Nguyen\n",
            "email                        Nguyen.Mary@protonmail.com\n",
            "Name: 557-683-4481, dtype: object \n",
            "\n",
            "\n",
            "total_of_special_requests                    5\n",
            "name                         Kurt Maldonado MD\n",
            "email                        KMD15@xfinity.com\n",
            "Name: 596-909-0721, dtype: object \n",
            "\n",
            "\n",
            "total_of_special_requests                     5\n",
            "name                            Denise Campbell\n",
            "email                        Denise_C@gmail.com\n",
            "Name: 611-914-5212, dtype: object \n",
            "\n",
            "\n",
            "total_of_special_requests                           5\n",
            "name                                   Ashley Edwards\n",
            "email                        Edwards.Ashley@yahoo.com\n",
            "Name: 626-492-1882, dtype: object \n",
            "\n",
            "\n",
            "total_of_special_requests                         5\n",
            "name                                   Kayla Murphy\n",
            "email                        Kayla.Murphy@yahoo.com\n",
            "Name: 645-326-3016, dtype: object \n",
            "\n",
            "\n",
            "total_of_special_requests                         5\n",
            "name                                  Tyler Allison\n",
            "email                        Tyler.A@protonmail.com\n",
            "Name: 685-168-8139, dtype: object \n",
            "\n",
            "\n",
            "total_of_special_requests                               5\n",
            "name                                    Cynthia Hernandez\n",
            "email                        CynthiaHernandez@xfinity.com\n",
            "Name: 713-506-8850, dtype: object \n",
            "\n",
            "\n"
          ],
          "name": "stdout"
        }
      ]
    },
    {
      "cell_type": "markdown",
      "metadata": {
        "papermill": {
          "duration": 0.028668,
          "end_time": "2021-08-27T16:00:20.860051",
          "exception": false,
          "start_time": "2021-08-27T16:00:20.831383",
          "status": "completed"
        },
        "tags": [],
        "id": "000b6704"
      },
      "source": [
        "**11-What are the most common last name?**"
      ],
      "id": "000b6704"
    },
    {
      "cell_type": "code",
      "metadata": {
        "execution": {
          "iopub.execute_input": "2021-08-27T16:00:20.937186Z",
          "iopub.status.busy": "2021-08-27T16:00:20.921797Z",
          "iopub.status.idle": "2021-08-27T16:00:21.019105Z",
          "shell.execute_reply": "2021-08-27T16:00:21.018228Z",
          "shell.execute_reply.started": "2021-08-27T15:57:12.273223Z"
        },
        "papermill": {
          "duration": 0.131232,
          "end_time": "2021-08-27T16:00:21.019235",
          "exception": false,
          "start_time": "2021-08-27T16:00:20.888003",
          "status": "completed"
        },
        "tags": [],
        "colab": {
          "base_uri": "https://localhost:8080/"
        },
        "id": "e91a964f",
        "outputId": "f60ed5d7-6990-4595-cfd7-4bbb4b37cd18"
      },
      "source": [
        "df['last_name'] = df['name'].apply(lambda x : x[x.index(' ') + 1:])\n",
        "df['last_name'].value_counts()[:5]"
      ],
      "id": "e91a964f",
      "execution_count": 17,
      "outputs": [
        {
          "output_type": "execute_result",
          "data": {
            "text/plain": [
              "Smith       2466\n",
              "Johnson     1968\n",
              "Williams    1590\n",
              "Jones       1420\n",
              "Brown       1403\n",
              "Name: last_name, dtype: int64"
            ]
          },
          "metadata": {},
          "execution_count": 17
        }
      ]
    },
    {
      "cell_type": "code",
      "metadata": {
        "colab": {
          "base_uri": "https://localhost:8080/",
          "height": 315
        },
        "id": "FyYAZrPcTxso",
        "outputId": "0f5b8fea-7316-40ee-dfdc-f7220bc121fd"
      },
      "source": [
        "df['last_name'].value_counts()[:5].plot(kind='bar')"
      ],
      "id": "FyYAZrPcTxso",
      "execution_count": 21,
      "outputs": [
        {
          "output_type": "execute_result",
          "data": {
            "text/plain": [
              "<matplotlib.axes._subplots.AxesSubplot at 0x7ff58a4d11d0>"
            ]
          },
          "metadata": {},
          "execution_count": 21
        },
        {
          "output_type": "display_data",
          "data": {
            "image/png": "[encoded data removed]",
            "text/plain": [
              "<Figure size 432x288 with 1 Axes>"
            ]
          },
          "metadata": {
            "needs_background": "light"
          }
        }
      ]
    },
    {
      "cell_type": "markdown",
      "metadata": {
        "papermill": {
          "duration": 0.028655,
          "end_time": "2021-08-27T16:00:21.076671",
          "exception": false,
          "start_time": "2021-08-27T16:00:21.048016",
          "status": "completed"
        },
        "tags": [],
        "id": "85b1d1bb"
      },
      "source": [
        "**12-Who has booked the hotel with the most children and babies?**"
      ],
      "id": "85b1d1bb"
    },
    {
      "cell_type": "code",
      "metadata": {
        "execution": {
          "iopub.execute_input": "2021-08-27T16:00:21.140757Z",
          "iopub.status.busy": "2021-08-27T16:00:21.139879Z",
          "iopub.status.idle": "2021-08-27T16:00:21.145844Z",
          "shell.execute_reply": "2021-08-27T16:00:21.145297Z",
          "shell.execute_reply.started": "2021-08-27T15:57:12.396132Z"
        },
        "papermill": {
          "duration": 0.04024,
          "end_time": "2021-08-27T16:00:21.145962",
          "exception": false,
          "start_time": "2021-08-27T16:00:21.105722",
          "status": "completed"
        },
        "tags": [],
        "colab": {
          "base_uri": "https://localhost:8080/"
        },
        "id": "4b76f928",
        "outputId": "6d4ed982-0bb2-435e-8faa-52ee1e55c329"
      },
      "source": [
        "max_babies=df['babies'].idxmax()\n",
        "max_children=df[ 'children'].idxmax()\n",
        "\n",
        "print(df.iloc[max_children][\"name\"],\n",
        "      \" has booked a hotel with the largest number of children.\")\n",
        "\n",
        "print(df.iloc[max_babies][\"name\"],\n",
        "      \" has booked a hotel with the largest number of babies.\")\n"
      ],
      "id": "4b76f928",
      "execution_count": 18,
      "outputs": [
        {
          "output_type": "stream",
          "text": [
            "Jamie Ramirez  has booked a hotel with the largest number of children.\n",
            "Nicholas Parker  has booked a hotel with the largest number of babies.\n"
          ],
          "name": "stdout"
        }
      ]
    },
    {
      "cell_type": "markdown",
      "metadata": {
        "papermill": {
          "duration": 0.028793,
          "end_time": "2021-08-27T16:00:21.202942",
          "exception": false,
          "start_time": "2021-08-27T16:00:21.174149",
          "status": "completed"
        },
        "tags": [],
        "id": "2a53064f"
      },
      "source": [
        "**13-Specify the phone code of the areas that have the most hotel reservations.** (3 first codes)"
      ],
      "id": "2a53064f"
    },
    {
      "cell_type": "code",
      "metadata": {
        "execution": {
          "iopub.execute_input": "2021-08-27T16:00:21.265967Z",
          "iopub.status.busy": "2021-08-27T16:00:21.265103Z",
          "iopub.status.idle": "2021-08-27T16:00:21.338674Z",
          "shell.execute_reply": "2021-08-27T16:00:21.337716Z",
          "shell.execute_reply.started": "2021-08-27T15:57:12.407316Z"
        },
        "papermill": {
          "duration": 0.107611,
          "end_time": "2021-08-27T16:00:21.338829",
          "exception": false,
          "start_time": "2021-08-27T16:00:21.231218",
          "status": "completed"
        },
        "tags": [],
        "colab": {
          "base_uri": "https://localhost:8080/"
        },
        "id": "19650a22",
        "outputId": "d346f28e-07b5-47d8-a06c-9ea760aecb90"
      },
      "source": [
        "phone_code=df['phone-number'].apply(lambda x : x[:3]).value_counts()[:3]\n",
        "\n",
        "print(\"3 first codes that have the most hotel reservations :\\n\", phone_code)"
      ],
      "id": "19650a22",
      "execution_count": 19,
      "outputs": [
        {
          "output_type": "stream",
          "text": [
            "3 first codes that have the most hotel reservations :\n",
            " 799    168\n",
            "185    167\n",
            "541    166\n",
            "Name: phone-number, dtype: int64\n"
          ],
          "name": "stdout"
        }
      ]
    },
    {
      "cell_type": "markdown",
      "metadata": {
        "papermill": {
          "duration": 0.030255,
          "end_time": "2021-08-27T16:00:21.398936",
          "exception": false,
          "start_time": "2021-08-27T16:00:21.368681",
          "status": "completed"
        },
        "tags": [],
        "id": "811159db"
      },
      "source": [
        "**Finished**"
      ],
      "id": "811159db"
    }
  ]
}